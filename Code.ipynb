{
  "nbformat": 4,
  "nbformat_minor": 0,
  "metadata": {
    "colab": {
      "name": "Code.ipynb",
      "provenance": [],
      "collapsed_sections": [
        "O3wxLgAM6AgC",
        "oik2Bt2Cl6zC",
        "tHvWuGdF4A-1"
      ],
      "toc_visible": true
    },
    "kernelspec": {
      "name": "python3",
      "display_name": "Python 3"
    },
    "language_info": {
      "name": "python"
    }
  },
  "cells": [
    {
      "cell_type": "markdown",
      "source": [
        "# 0. Data"
      ],
      "metadata": {
        "id": "MBzQn0rz1Umr"
      }
    },
    {
      "cell_type": "markdown",
      "source": [
        "## 0.1. Import packages"
      ],
      "metadata": {
        "id": "2Tj4GkVR1Ymx"
      }
    },
    {
      "cell_type": "code",
      "execution_count": null,
      "metadata": {
        "id": "_obCIwAP7Emp"
      },
      "outputs": [],
      "source": [
        "import numpy as np\n",
        "import os\n",
        "from pathlib import Path\n",
        "import tensorflow as tf\n",
        "import pandas as pd\n",
        "import matplotlib.pyplot as plt\n",
        "import datetime, os, time\n",
        "\n",
        "import pickle\n",
        "\n",
        "from sklearn.preprocessing import StandardScaler\n",
        "from sklearn.preprocessing import MinMaxScaler\n",
        "from sklearn.model_selection import train_test_split\n",
        "\n",
        "from tensorflow.keras.models import Sequential\n",
        "from tensorflow.keras.layers import Flatten, Dense, SimpleRNN, BatchNormalization, LSTM, Conv1D, Embedding, GRU\n",
        "from tensorflow.keras.layers import Dropout, LSTM, Activation #, CuDNNLSTM\n",
        "from tensorflow.keras.optimizers import Adam, Nadam\n",
        "from tensorflow.keras.metrics import mean_squared_error\n",
        "from tensorflow.data import Dataset, TFRecordDataset\n",
        "from tensorflow.keras.applications.mobilenet import MobileNet, preprocess_input\n",
        "from tensorflow.keras.layers import Conv2D, MaxPooling2D, GlobalAveragePooling2D, UpSampling2D, MaxPool2D\n",
        "from tensorflow.keras.losses import mean_squared_error\n",
        "from tensorflow.keras.callbacks import TensorBoard\n",
        "from tensorflow.keras import layers\n",
        "from tensorflow import keras\n",
        "from tensorflow.keras import backend as K\n",
        "tf.random.set_seed(123)\n",
        "\n",
        "from keras.utils.np_utils import to_categorical\n",
        "\n",
        "from PIL import Image"
      ]
    },
    {
      "cell_type": "markdown",
      "source": [
        "## 0.2. Import data"
      ],
      "metadata": {
        "id": "ysu4nzKF1b8X"
      }
    },
    {
      "cell_type": "code",
      "source": [
        "from google.colab import drive\n",
        "drive.mount('/content/drive')"
      ],
      "metadata": {
        "colab": {
          "base_uri": "https://localhost:8080/"
        },
        "id": "TY5SzGI1QJBT",
        "outputId": "8c8cd984-9bc3-4697-8d6d-ff597267cb88"
      },
      "execution_count": null,
      "outputs": [
        {
          "output_type": "stream",
          "name": "stdout",
          "text": [
            "Mounted at /content/drive\n"
          ]
        }
      ]
    },
    {
      "cell_type": "markdown",
      "source": [
        "## 0.3. Preprocessing"
      ],
      "metadata": {
        "id": "9oXoOCce6I49"
      }
    },
    {
      "cell_type": "markdown",
      "source": [
        "### 0.3.1. Open `pickle` file"
      ],
      "metadata": {
        "id": "UmvvOFvz57O4"
      }
    },
    {
      "cell_type": "code",
      "source": [
        "with open('/content/drive/MyDrive/Bayes/Term 2/Final ADL/Data/time_series_1.pickle','rb') as handle:\n",
        "  time_series_1 = pickle.load(handle)\n",
        "with open('/content/drive/MyDrive/Bayes/Term 2/Final ADL/Data/time_series_2.pickle','rb') as handle:\n",
        "  time_series_2 = pickle.load(handle)\n",
        "with open('/content/drive/MyDrive/Bayes/Term 2/Final ADL/Data/y.pickle','rb') as handle:\n",
        "  y = pickle.load(handle)"
      ],
      "metadata": {
        "id": "ZI-UNR7ZS9k3"
      },
      "execution_count": null,
      "outputs": []
    },
    {
      "cell_type": "markdown",
      "source": [
        "The data are sensor readings and operating modes for 4,000 turbine runs. time_series_1 and\n",
        "time_series_2 are NumPy arrays of shape (4000,5000). Each observation corresponds to 5,000\n",
        "records of the turbine over time by one of the two sensors (time_series_1 measures the pitch\n",
        "angle in each second of operation, and time_series_2 measures the generator torque). y is the\n",
        "operating mode for each of the 4,000 turbine runs (0 if the turbine is healthy, 1 if the generator\n",
        "torque is faulty, 2 if the pitch angle is faulty, and 3 if both are faulty). Note that the dataset is\n",
        "balanced in that each operating mode is represented equally often."
      ],
      "metadata": {
        "id": "zzkMaSRrUsih"
      }
    },
    {
      "cell_type": "markdown",
      "source": [
        "### 0.3.2. Multivariates time series"
      ],
      "metadata": {
        "id": "O3wxLgAM6AgC"
      }
    },
    {
      "cell_type": "code",
      "source": [
        "# change x type into float 32\n",
        "time_1 = time_series_1.astype(np.float32)\n",
        "time_2 = time_series_2.astype(np.float32)"
      ],
      "metadata": {
        "id": "Q0bZu3phn2an"
      },
      "execution_count": null,
      "outputs": []
    },
    {
      "cell_type": "code",
      "source": [
        "#np.stack((arr1, arr2), axis=2)\n",
        "X = np.stack((time_1, time_2),  axis=2)"
      ],
      "metadata": {
        "id": "ycYWm6V5FFay"
      },
      "execution_count": null,
      "outputs": []
    },
    {
      "cell_type": "code",
      "source": [
        "# check shape \n",
        "print(X.shape)"
      ],
      "metadata": {
        "id": "UuDUzKnKqYgT",
        "colab": {
          "base_uri": "https://localhost:8080/"
        },
        "outputId": "7ce59d79-044b-4b60-a735-7f2633577798"
      },
      "execution_count": null,
      "outputs": [
        {
          "output_type": "stream",
          "name": "stdout",
          "text": [
            "(4000, 5000, 2)\n"
          ]
        }
      ]
    },
    {
      "cell_type": "markdown",
      "source": [
        "meaning of X shape : \n",
        "\n",
        "- 1st dimension: 4000 runs turbine\n",
        "- 2nd dimensionst: numnber of time steps per sample, which is 5000 records\n",
        "- 3rd dimension: number of parallel time series, in other words, number of variables. In this case is 2 for 2 sensors"
      ],
      "metadata": {
        "id": "9Mtv6V8rFQ4p"
      }
    },
    {
      "cell_type": "markdown",
      "source": [
        "### 0.3.3. One hot encode"
      ],
      "metadata": {
        "id": "oik2Bt2Cl6zC"
      }
    },
    {
      "cell_type": "markdown",
      "source": [
        "The target variable values are categorical and not ordinal, as well as it has less categorical values (4 values). Also, as we want to improve predictions as well as classification accuracy of a model, we will do one hot encoder with target variable prior for training"
      ],
      "metadata": {
        "id": "RfowqVj-MjCs"
      }
    },
    {
      "cell_type": "code",
      "source": [
        "y_cat = to_categorical(y)\n",
        "y_cat.shape"
      ],
      "metadata": {
        "colab": {
          "base_uri": "https://localhost:8080/"
        },
        "id": "ruIiO59PS5-f",
        "outputId": "bd319fe2-ec83-4f64-bcf3-b013f443bbda"
      },
      "execution_count": null,
      "outputs": [
        {
          "output_type": "execute_result",
          "data": {
            "text/plain": [
              "(4000, 4)"
            ]
          },
          "metadata": {},
          "execution_count": 8
        }
      ]
    },
    {
      "cell_type": "markdown",
      "source": [
        "## 0.4. Splitting data\n",
        "Throughout, you should use validation and test datasets consisting of 15% of the observations each. Make sure to use the same split of observations for all tasks."
      ],
      "metadata": {
        "id": "tHvWuGdF4A-1"
      }
    },
    {
      "cell_type": "code",
      "source": [
        "# split data into train, validation and test set\n",
        "other_X, test_X, other_Y, test_Y = train_test_split(X, y_cat, test_size=0.15, random_state = 123)\n",
        "train_X, valid_X, train_Y, valid_Y = train_test_split(other_X, other_Y, test_size=0.15/0.85, random_state = 123)\n",
        "\n",
        "print(test_X.shape, test_Y.shape )\n",
        "print(valid_X.shape, valid_Y.shape )\n",
        "print(train_X.shape, train_Y.shape )"
      ],
      "metadata": {
        "colab": {
          "base_uri": "https://localhost:8080/"
        },
        "id": "1X70BvCzEmm1",
        "outputId": "b89a7d08-a0cc-4584-b4ee-741a00bdb30d"
      },
      "execution_count": null,
      "outputs": [
        {
          "output_type": "stream",
          "name": "stdout",
          "text": [
            "(600, 5000, 2) (600, 4)\n",
            "(600, 5000, 2) (600, 4)\n",
            "(2800, 5000, 2) (2800, 4)\n"
          ]
        }
      ]
    },
    {
      "cell_type": "markdown",
      "source": [
        "# 1. Using RNN\n",
        "\n"
      ],
      "metadata": {
        "id": "4z51nJX9FPlw"
      }
    },
    {
      "cell_type": "markdown",
      "source": [
        "## 1.1. Function to plot train and validation loss"
      ],
      "metadata": {
        "id": "N-MC7vNI32c2"
      }
    },
    {
      "cell_type": "markdown",
      "source": [
        "For multi-class classification, we will use `‘categorical_crossentropy‘` when calling the `compile()` function. This type of loss is suitable for multi classification, with the target variable has been done with one hot encoded prior to training.\n",
        "\n",
        "For optimizer, we would choose `Adam`, since the weights are adjusted based on the moving average of gradients calculated in current and previous epochs. The moments adjustment as per the Adam algorithm is calculated as moving average of previous and current gradients and then those moments are used to update the weights."
      ],
      "metadata": {
        "id": "zmWH1gtTLG4r"
      }
    },
    {
      "cell_type": "code",
      "source": [
        "def train_plot(model, ep ):\n",
        "  # train model\n",
        "  np.random.seed(312)\n",
        "  tf.random.set_seed(312)\n",
        "\n",
        "  model.compile(loss=\"categorical_crossentropy\", \n",
        "                optimizer=Adam(learning_rate = 0.001, decay=1e-6),\n",
        "                metrics=['accuracy']\n",
        "                )\n",
        "  log = model.fit(train_X, train_Y, \n",
        "                  epochs = ep ,\n",
        "                  validation_data=(valid_X, valid_Y),\n",
        "                  )\n",
        "  # plot loss\n",
        "  plt.plot(log.history['loss'],label = \"training loss\",color='darkgreen')\n",
        "  plt.plot(log.history['val_loss'], label = \"validation loss\",color='darkblue')\n",
        "  plt.legend()\n",
        "  ax = plt.gca()\n",
        "  plt.show()\n",
        "    \n",
        "  return model"
      ],
      "metadata": {
        "id": "lLV5N_8jFPEc"
      },
      "execution_count": null,
      "outputs": []
    },
    {
      "cell_type": "markdown",
      "source": [
        "## 1.2. Fiting model with different method "
      ],
      "metadata": {
        "id": "g6siE3-FjCKb"
      }
    },
    {
      "cell_type": "markdown",
      "source": [
        "### 1.2.1. Linear regression "
      ],
      "metadata": {
        "id": "P0PplD9I2ylv"
      }
    },
    {
      "cell_type": "code",
      "source": [
        "linear_model = Sequential([\n",
        "    Flatten(input_shape= X.shape[1:]),\n",
        "    Dense(4)\n",
        "])\n",
        "linear_model.summary()\n",
        "train_plot(linear_model, 20 )"
      ],
      "metadata": {
        "colab": {
          "base_uri": "https://localhost:8080/",
          "height": 1000
        },
        "id": "kz76poRQlMAF",
        "outputId": "98f3ec4d-a1ac-4a88-dc13-5b514ffe7962"
      },
      "execution_count": null,
      "outputs": [
        {
          "output_type": "stream",
          "name": "stdout",
          "text": [
            "Model: \"sequential_5\"\n",
            "_________________________________________________________________\n",
            " Layer (type)                Output Shape              Param #   \n",
            "=================================================================\n",
            " flatten_2 (Flatten)         (None, 10000)             0         \n",
            "                                                                 \n",
            " dense_4 (Dense)             (None, 4)                 40004     \n",
            "                                                                 \n",
            "=================================================================\n",
            "Total params: 40,004\n",
            "Trainable params: 40,004\n",
            "Non-trainable params: 0\n",
            "_________________________________________________________________\n",
            "Epoch 1/20\n",
            "88/88 [==============================] - 1s 7ms/step - loss: 7.6399 - accuracy: 0.2618 - val_loss: 12.3035 - val_accuracy: 0.2850\n",
            "Epoch 2/20\n",
            "88/88 [==============================] - 0s 5ms/step - loss: 11.9562 - accuracy: 0.2493 - val_loss: 12.3035 - val_accuracy: 0.2850\n",
            "Epoch 3/20\n",
            "88/88 [==============================] - 1s 6ms/step - loss: 11.9562 - accuracy: 0.2493 - val_loss: 12.3035 - val_accuracy: 0.2850\n",
            "Epoch 4/20\n",
            "88/88 [==============================] - 0s 5ms/step - loss: 11.9562 - accuracy: 0.2493 - val_loss: 12.3035 - val_accuracy: 0.2850\n",
            "Epoch 5/20\n",
            "88/88 [==============================] - 0s 6ms/step - loss: 11.9562 - accuracy: 0.2493 - val_loss: 12.3035 - val_accuracy: 0.2850\n",
            "Epoch 6/20\n",
            "88/88 [==============================] - 0s 5ms/step - loss: 11.9562 - accuracy: 0.2493 - val_loss: 12.3035 - val_accuracy: 0.2850\n",
            "Epoch 7/20\n",
            "88/88 [==============================] - 0s 6ms/step - loss: 11.9562 - accuracy: 0.2493 - val_loss: 12.3035 - val_accuracy: 0.2850\n",
            "Epoch 8/20\n",
            "88/88 [==============================] - 0s 5ms/step - loss: 11.9562 - accuracy: 0.2493 - val_loss: 12.3035 - val_accuracy: 0.2850\n",
            "Epoch 9/20\n",
            "88/88 [==============================] - 1s 6ms/step - loss: 11.9562 - accuracy: 0.2493 - val_loss: 12.3035 - val_accuracy: 0.2850\n",
            "Epoch 10/20\n",
            "88/88 [==============================] - 0s 5ms/step - loss: 11.9562 - accuracy: 0.2493 - val_loss: 12.3035 - val_accuracy: 0.2850\n",
            "Epoch 11/20\n",
            "88/88 [==============================] - 0s 5ms/step - loss: 11.9562 - accuracy: 0.2493 - val_loss: 12.3035 - val_accuracy: 0.2850\n",
            "Epoch 12/20\n",
            "88/88 [==============================] - 0s 5ms/step - loss: 11.9562 - accuracy: 0.2493 - val_loss: 12.3035 - val_accuracy: 0.2850\n",
            "Epoch 13/20\n",
            "88/88 [==============================] - 0s 5ms/step - loss: 11.9562 - accuracy: 0.2493 - val_loss: 12.3035 - val_accuracy: 0.2850\n",
            "Epoch 14/20\n",
            "88/88 [==============================] - 0s 5ms/step - loss: 11.9562 - accuracy: 0.2493 - val_loss: 12.3035 - val_accuracy: 0.2850\n",
            "Epoch 15/20\n",
            "88/88 [==============================] - 0s 5ms/step - loss: 11.9562 - accuracy: 0.2493 - val_loss: 12.3035 - val_accuracy: 0.2850\n",
            "Epoch 16/20\n",
            "88/88 [==============================] - 0s 5ms/step - loss: 11.9562 - accuracy: 0.2493 - val_loss: 12.3035 - val_accuracy: 0.2850\n",
            "Epoch 17/20\n",
            "88/88 [==============================] - 0s 5ms/step - loss: 11.9562 - accuracy: 0.2493 - val_loss: 12.3035 - val_accuracy: 0.2850\n",
            "Epoch 18/20\n",
            "88/88 [==============================] - 0s 5ms/step - loss: 11.9562 - accuracy: 0.2493 - val_loss: 12.3035 - val_accuracy: 0.2850\n",
            "Epoch 19/20\n",
            "88/88 [==============================] - 0s 5ms/step - loss: 11.9562 - accuracy: 0.2493 - val_loss: 12.3035 - val_accuracy: 0.2850\n",
            "Epoch 20/20\n",
            "88/88 [==============================] - 0s 5ms/step - loss: 11.9562 - accuracy: 0.2493 - val_loss: 12.3035 - val_accuracy: 0.2850\n"
          ]
        },
        {
          "output_type": "display_data",
          "data": {
            "text/plain": [
              "<Figure size 432x288 with 1 Axes>"
            ],
            "image/png": "[encoded data removed]"
          },
          "metadata": {
            "needs_background": "light"
          }
        },
        {
          "output_type": "execute_result",
          "data": {
            "text/plain": [
              "<keras.engine.sequential.Sequential at 0x7f90db7ce250>"
            ]
          },
          "metadata": {},
          "execution_count": 54
        }
      ]
    },
    {
      "cell_type": "code",
      "source": [
        "# evaluate the model\n",
        "test_loss_linear, test_acc_linear  = linear_model.evaluate(test_X, test_Y)\n",
        "print(\"Test Accuracy for Linear Regression is\",np.round((test_acc_linear)*100,2))"
      ],
      "metadata": {
        "colab": {
          "base_uri": "https://localhost:8080/"
        },
        "id": "fc1YKThuXjUQ",
        "outputId": "a7acb6ae-dff3-44b8-d6cb-080a6ccf6594"
      },
      "execution_count": null,
      "outputs": [
        {
          "output_type": "stream",
          "name": "stdout",
          "text": [
            "19/19 [==============================] - 0s 3ms/step - loss: 12.4915 - accuracy: 0.2300\n",
            "Test Accuracy for Linear Regression is 23.0\n"
          ]
        }
      ]
    },
    {
      "cell_type": "markdown",
      "source": [
        "This method is time saving. However, the loss is quite high, and the accuracy acquired is only 23%, which is pretty low."
      ],
      "metadata": {
        "id": "RdOhjhiGX6Al"
      }
    },
    {
      "cell_type": "markdown",
      "source": [
        "### 1.2.2. Simple RNN"
      ],
      "metadata": {
        "id": "Zm-VdOML3pqV"
      }
    },
    {
      "cell_type": "code",
      "source": [
        "## Simple RNN\n",
        "model_simple_RNN = Sequential()\n",
        "model_simple_RNN.add(SimpleRNN(1, input_shape=X.shape[1:]))\n",
        "model_simple_RNN.add(Dense(4, activation='softmax'))\n",
        "\n",
        "model_simple_RNN.summary()\n",
        "train_plot(model_simple_RNN, 20)"
      ],
      "metadata": {
        "colab": {
          "base_uri": "https://localhost:8080/",
          "height": 1000
        },
        "id": "5hYKxoYslEi2",
        "outputId": "5d966eda-04b3-4ad4-828f-fb8f3f711871"
      },
      "execution_count": null,
      "outputs": [
        {
          "output_type": "stream",
          "name": "stdout",
          "text": [
            "Model: \"sequential_3\"\n",
            "_________________________________________________________________\n",
            " Layer (type)                Output Shape              Param #   \n",
            "=================================================================\n",
            " simple_rnn_1 (SimpleRNN)    (None, 1)                 4         \n",
            "                                                                 \n",
            " dense_2 (Dense)             (None, 4)                 8         \n",
            "                                                                 \n",
            "=================================================================\n",
            "Total params: 12\n",
            "Trainable params: 12\n",
            "Non-trainable params: 0\n",
            "_________________________________________________________________\n",
            "Epoch 1/20\n",
            "88/88 [==============================] - 51s 567ms/step - loss: 1.3760 - accuracy: 0.3100 - val_loss: 1.3693 - val_accuracy: 0.3617\n",
            "Epoch 2/20\n",
            "88/88 [==============================] - 50s 569ms/step - loss: 1.3723 - accuracy: 0.3225 - val_loss: 1.3669 - val_accuracy: 0.3667\n",
            "Epoch 3/20\n",
            "88/88 [==============================] - 50s 568ms/step - loss: 1.3693 - accuracy: 0.3304 - val_loss: 1.3624 - val_accuracy: 0.3717\n",
            "Epoch 4/20\n",
            "88/88 [==============================] - 50s 572ms/step - loss: 1.3664 - accuracy: 0.3296 - val_loss: 1.3594 - val_accuracy: 0.3583\n",
            "Epoch 5/20\n",
            "88/88 [==============================] - 50s 564ms/step - loss: 1.3642 - accuracy: 0.3364 - val_loss: 1.3600 - val_accuracy: 0.3567\n",
            "Epoch 6/20\n",
            "88/88 [==============================] - 50s 570ms/step - loss: 1.3620 - accuracy: 0.3400 - val_loss: 1.3539 - val_accuracy: 0.3650\n",
            "Epoch 7/20\n",
            "88/88 [==============================] - 51s 584ms/step - loss: 1.3594 - accuracy: 0.3396 - val_loss: 1.3551 - val_accuracy: 0.3583\n",
            "Epoch 8/20\n",
            "88/88 [==============================] - 49s 559ms/step - loss: 1.3577 - accuracy: 0.3361 - val_loss: 1.3509 - val_accuracy: 0.3650\n",
            "Epoch 9/20\n",
            "88/88 [==============================] - 53s 597ms/step - loss: 1.3552 - accuracy: 0.3421 - val_loss: 1.3469 - val_accuracy: 0.3767\n",
            "Epoch 10/20\n",
            "88/88 [==============================] - 50s 564ms/step - loss: 1.3527 - accuracy: 0.3471 - val_loss: 1.3443 - val_accuracy: 0.3633\n",
            "Epoch 11/20\n",
            "88/88 [==============================] - 50s 563ms/step - loss: 1.3516 - accuracy: 0.3432 - val_loss: 1.3408 - val_accuracy: 0.3650\n",
            "Epoch 12/20\n",
            "88/88 [==============================] - 50s 572ms/step - loss: 1.3488 - accuracy: 0.3529 - val_loss: 1.3387 - val_accuracy: 0.3667\n",
            "Epoch 13/20\n",
            "88/88 [==============================] - 51s 581ms/step - loss: 1.3466 - accuracy: 0.3489 - val_loss: 1.3352 - val_accuracy: 0.3683\n",
            "Epoch 14/20\n",
            "88/88 [==============================] - 50s 573ms/step - loss: 1.3448 - accuracy: 0.3439 - val_loss: 1.3338 - val_accuracy: 0.3667\n",
            "Epoch 15/20\n",
            "88/88 [==============================] - 51s 574ms/step - loss: 1.3427 - accuracy: 0.3518 - val_loss: 1.3296 - val_accuracy: 0.3583\n",
            "Epoch 16/20\n",
            "88/88 [==============================] - 50s 572ms/step - loss: 1.3408 - accuracy: 0.3514 - val_loss: 1.3292 - val_accuracy: 0.3683\n",
            "Epoch 17/20\n",
            "88/88 [==============================] - 50s 571ms/step - loss: 1.3378 - accuracy: 0.3554 - val_loss: 1.3247 - val_accuracy: 0.3683\n",
            "Epoch 18/20\n",
            "88/88 [==============================] - 51s 577ms/step - loss: 1.3360 - accuracy: 0.3561 - val_loss: 1.3224 - val_accuracy: 0.3717\n",
            "Epoch 19/20\n",
            "88/88 [==============================] - 52s 585ms/step - loss: 1.3333 - accuracy: 0.3657 - val_loss: 1.3188 - val_accuracy: 0.3767\n",
            "Epoch 20/20\n",
            "88/88 [==============================] - 51s 575ms/step - loss: 1.3316 - accuracy: 0.3614 - val_loss: 1.3153 - val_accuracy: 0.3817\n"
          ]
        },
        {
          "output_type": "display_data",
          "data": {
            "text/plain": [
              "<Figure size 432x288 with 1 Axes>"
            ],
            "image/png": "[encoded data removed]"
          },
          "metadata": {
            "needs_background": "light"
          }
        },
        {
          "output_type": "execute_result",
          "data": {
            "text/plain": [
              "<keras.engine.sequential.Sequential at 0x7f90e6307bd0>"
            ]
          },
          "metadata": {},
          "execution_count": 30
        }
      ]
    },
    {
      "cell_type": "code",
      "source": [
        "test_loss_simpleRNN, test_acc_simpleRNN  = model_simple_RNN.evaluate(test_X, test_Y)\n",
        "print(\"Test Accuracy of Simple RNN model is\",np.round((test_acc_simpleRNN)*100,2))"
      ],
      "metadata": {
        "colab": {
          "base_uri": "https://localhost:8080/"
        },
        "id": "iGUF3FNp3-2C",
        "outputId": "0cfbe865-94eb-4391-c6c1-86cb9b926073"
      },
      "execution_count": null,
      "outputs": [
        {
          "output_type": "stream",
          "name": "stdout",
          "text": [
            "19/19 [==============================] - 3s 132ms/step - loss: 1.3306 - accuracy: 0.3683\n",
            "Test Accuracy of Simple RNN model is 36.83\n"
          ]
        }
      ]
    },
    {
      "cell_type": "markdown",
      "source": [
        "This method is slower than the Linear regression. However, eventhough both of the loss and accuracy have been improves, the results for accuracy is still lower than 40%."
      ],
      "metadata": {
        "id": "cR61PB2PYKji"
      }
    },
    {
      "cell_type": "markdown",
      "source": [
        "### 1.2.3. Deeper RNN"
      ],
      "metadata": {
        "id": "jLGDy6zD6_cH"
      }
    },
    {
      "cell_type": "code",
      "source": [
        "## Deeper RNN\n",
        "model_deeper = Sequential()\n",
        "model_deeper.add(SimpleRNN(20, return_sequences=True, input_shape=X.shape[1:]))\n",
        "model_deeper.add(SimpleRNN(20))\n",
        "model_deeper.add(Dense(4, activation='softmax'))\n",
        "\n",
        "model_deeper.summary()\n",
        "\n",
        "train_plot(model_deeper, 20)"
      ],
      "metadata": {
        "colab": {
          "base_uri": "https://localhost:8080/"
        },
        "id": "jljfnolblm1F",
        "outputId": "c292ec60-d486-4b12-efd5-290b492c3eb8"
      },
      "execution_count": null,
      "outputs": [
        {
          "output_type": "stream",
          "name": "stdout",
          "text": [
            "Model: \"sequential_17\"\n",
            "_________________________________________________________________\n",
            " Layer (type)                Output Shape              Param #   \n",
            "=================================================================\n",
            " simple_rnn_5 (SimpleRNN)    (None, 5000, 20)          460       \n",
            "                                                                 \n",
            " simple_rnn_6 (SimpleRNN)    (None, 20)                820       \n",
            "                                                                 \n",
            " dense_14 (Dense)            (None, 4)                 84        \n",
            "                                                                 \n",
            "=================================================================\n",
            "Total params: 1,364\n",
            "Trainable params: 1,364\n",
            "Non-trainable params: 0\n",
            "_________________________________________________________________\n",
            "Epoch 1/20\n",
            "88/88 [==============================] - 379s 4s/step - loss: 1.2919 - accuracy: 0.3996 - val_loss: 1.2122 - val_accuracy: 0.4867\n",
            "Epoch 2/20\n",
            "88/88 [==============================] - 381s 4s/step - loss: 1.1666 - accuracy: 0.4793 - val_loss: 1.1401 - val_accuracy: 0.4750\n",
            "Epoch 3/20\n",
            "88/88 [==============================] - 381s 4s/step - loss: 1.0772 - accuracy: 0.5204 - val_loss: 1.0428 - val_accuracy: 0.5433\n",
            "Epoch 4/20\n",
            "88/88 [==============================] - 381s 4s/step - loss: 1.0040 - accuracy: 0.5457 - val_loss: 1.0167 - val_accuracy: 0.5300\n",
            "Epoch 5/20\n",
            "88/88 [==============================] - 380s 4s/step - loss: 0.9689 - accuracy: 0.5643 - val_loss: 0.9496 - val_accuracy: 0.5500\n",
            "Epoch 6/20\n",
            "88/88 [==============================] - 378s 4s/step - loss: 0.9766 - accuracy: 0.5793 - val_loss: 0.9181 - val_accuracy: 0.5950\n",
            "Epoch 7/20\n",
            "88/88 [==============================] - 379s 4s/step - loss: 0.9145 - accuracy: 0.6043 - val_loss: 1.0143 - val_accuracy: 0.5617\n",
            "Epoch 8/20\n",
            "88/88 [==============================] - 377s 4s/step - loss: 0.8949 - accuracy: 0.6182 - val_loss: 0.8648 - val_accuracy: 0.6267\n",
            "Epoch 9/20\n",
            "88/88 [==============================] - 379s 4s/step - loss: 0.8671 - accuracy: 0.6236 - val_loss: 0.8362 - val_accuracy: 0.6467\n",
            "Epoch 10/20\n",
            "88/88 [==============================] - 379s 4s/step - loss: 0.8141 - accuracy: 0.6579 - val_loss: 0.7929 - val_accuracy: 0.6767\n",
            "Epoch 11/20\n",
            "88/88 [==============================] - 378s 4s/step - loss: 0.7950 - accuracy: 0.6718 - val_loss: 0.8300 - val_accuracy: 0.6317\n",
            "Epoch 12/20\n",
            "88/88 [==============================] - 379s 4s/step - loss: 0.7791 - accuracy: 0.6804 - val_loss: 0.7817 - val_accuracy: 0.6767\n",
            "Epoch 13/20\n",
            "88/88 [==============================] - 379s 4s/step - loss: 0.7550 - accuracy: 0.6936 - val_loss: 0.7256 - val_accuracy: 0.7067\n",
            "Epoch 14/20\n",
            "88/88 [==============================] - 381s 4s/step - loss: 0.7854 - accuracy: 0.6879 - val_loss: 0.7073 - val_accuracy: 0.7217\n",
            "Epoch 15/20\n",
            "88/88 [==============================] - 386s 4s/step - loss: 0.7158 - accuracy: 0.7186 - val_loss: 0.7114 - val_accuracy: 0.7100\n",
            "Epoch 16/20\n",
            "88/88 [==============================] - 386s 4s/step - loss: 0.6973 - accuracy: 0.7229 - val_loss: 0.6964 - val_accuracy: 0.7033\n",
            "Epoch 17/20\n",
            "88/88 [==============================] - 384s 4s/step - loss: 0.6860 - accuracy: 0.7211 - val_loss: 0.7871 - val_accuracy: 0.6667\n",
            "Epoch 18/20\n",
            "88/88 [==============================] - 382s 4s/step - loss: 0.6690 - accuracy: 0.7325 - val_loss: 0.6400 - val_accuracy: 0.7467\n",
            "Epoch 19/20\n",
            "88/88 [==============================] - 382s 4s/step - loss: 0.6863 - accuracy: 0.7293 - val_loss: 0.6668 - val_accuracy: 0.7283\n",
            "Epoch 20/20\n",
            "88/88 [==============================] - 382s 4s/step - loss: 0.6229 - accuracy: 0.7493 - val_loss: 0.5930 - val_accuracy: 0.7733\n"
          ]
        },
        {
          "output_type": "display_data",
          "data": {
            "text/plain": [
              "<Figure size 432x288 with 1 Axes>"
            ],
            "image/png": "[encoded data removed]"
          },
          "metadata": {
            "needs_background": "light"
          }
        },
        {
          "output_type": "execute_result",
          "data": {
            "text/plain": [
              "<keras.engine.sequential.Sequential at 0x7fde5d6db9d0>"
            ]
          },
          "metadata": {},
          "execution_count": 80
        }
      ]
    },
    {
      "cell_type": "code",
      "source": [
        "test_loss_deeperRNN, test_acc_deeperRNN   = model_deeper.evaluate(test_X, test_Y)\n",
        "print(\"Test Accuracy of Simple RNN model is\",np.round((test_acc_deeperRNN)*100,2))"
      ],
      "metadata": {
        "colab": {
          "base_uri": "https://localhost:8080/"
        },
        "id": "po2aRVOy7Rdq",
        "outputId": "119c94a3-72c1-4d72-b56f-631a44a3fab9"
      },
      "execution_count": null,
      "outputs": [
        {
          "output_type": "stream",
          "name": "stdout",
          "text": [
            "19/19 [==============================] - 7s 383ms/step - loss: 0.6198 - accuracy: 0.7783\n",
            "Test Accuracy of Simple RNN model is 77.83\n"
          ]
        }
      ]
    },
    {
      "cell_type": "markdown",
      "source": [
        "Although this model is quite time-consuming, the accuracy for test set is high, with nearly 78%. Moreover, looking at the loss plot, it seems like the more epoch we try, the less loss we have. However, in this case we will examine only 20 epochs for saving time. "
      ],
      "metadata": {
        "id": "HyVmDsUlwJ80"
      }
    },
    {
      "cell_type": "markdown",
      "source": [
        "### 1.2.3. Long Short Term Memory (LSTM)"
      ],
      "metadata": {
        "id": "XpxfrjKl4HbX"
      }
    },
    {
      "cell_type": "code",
      "source": [
        "## LSTM \n",
        "model_LSTM = Sequential()\n",
        "model_LSTM.add(LSTM(20, return_sequences=True, input_shape= X.shape[1:]))\n",
        "model_LSTM.add(LSTM(20))\n",
        "model_LSTM.add(Dense(4, activation='softmax'))\n",
        "\n",
        "model_LSTM.summary()\n",
        "\n",
        "train_plot(model_LSTM, 20)"
      ],
      "metadata": {
        "colab": {
          "base_uri": "https://localhost:8080/",
          "height": 1000
        },
        "id": "JSxnudtS7buj",
        "outputId": "8749b1a5-4e48-4688-b03d-83a62df64ce3"
      },
      "execution_count": null,
      "outputs": [
        {
          "output_type": "stream",
          "name": "stdout",
          "text": [
            "Model: \"sequential_3\"\n",
            "_________________________________________________________________\n",
            " Layer (type)                Output Shape              Param #   \n",
            "=================================================================\n",
            " lstm_4 (LSTM)               (None, 5000, 20)          1840      \n",
            "                                                                 \n",
            " lstm_5 (LSTM)               (None, 20)                3280      \n",
            "                                                                 \n",
            " dense_3 (Dense)             (None, 4)                 84        \n",
            "                                                                 \n",
            "=================================================================\n",
            "Total params: 5,204\n",
            "Trainable params: 5,204\n",
            "Non-trainable params: 0\n",
            "_________________________________________________________________\n",
            "Epoch 1/20\n",
            "88/88 [==============================] - 562s 6s/step - loss: 1.3870 - accuracy: 0.2479 - val_loss: 1.3880 - val_accuracy: 0.2367\n",
            "Epoch 2/20\n",
            "88/88 [==============================] - 582s 7s/step - loss: 1.3866 - accuracy: 0.2461 - val_loss: 1.3869 - val_accuracy: 0.2367\n",
            "Epoch 3/20\n",
            "88/88 [==============================] - 547s 6s/step - loss: 1.3865 - accuracy: 0.2564 - val_loss: 1.3884 - val_accuracy: 0.2350\n",
            "Epoch 4/20\n",
            "88/88 [==============================] - 555s 6s/step - loss: 1.3866 - accuracy: 0.2500 - val_loss: 1.3872 - val_accuracy: 0.2367\n",
            "Epoch 5/20\n",
            "88/88 [==============================] - 558s 6s/step - loss: 1.3862 - accuracy: 0.2539 - val_loss: 1.3856 - val_accuracy: 0.2367\n",
            "Epoch 6/20\n",
            "88/88 [==============================] - 554s 6s/step - loss: 1.3864 - accuracy: 0.2632 - val_loss: 1.3860 - val_accuracy: 0.2367\n",
            "Epoch 7/20\n",
            "88/88 [==============================] - 548s 6s/step - loss: 1.3860 - accuracy: 0.2561 - val_loss: 1.3854 - val_accuracy: 0.2367\n",
            "Epoch 8/20\n",
            "88/88 [==============================] - 554s 6s/step - loss: 1.3847 - accuracy: 0.2714 - val_loss: 1.3869 - val_accuracy: 0.2367\n",
            "Epoch 9/20\n",
            "88/88 [==============================] - 566s 6s/step - loss: 1.3821 - accuracy: 0.2646 - val_loss: 1.3800 - val_accuracy: 0.3350\n",
            "Epoch 10/20\n",
            "88/88 [==============================] - 562s 6s/step - loss: 1.3815 - accuracy: 0.2646 - val_loss: 1.3798 - val_accuracy: 0.3083\n",
            "Epoch 11/20\n",
            "88/88 [==============================] - 559s 6s/step - loss: 1.3768 - accuracy: 0.2825 - val_loss: 1.3906 - val_accuracy: 0.2567\n",
            "Epoch 12/20\n",
            "88/88 [==============================] - 558s 6s/step - loss: 1.3794 - accuracy: 0.2732 - val_loss: 1.3796 - val_accuracy: 0.2550\n",
            "Epoch 13/20\n",
            "88/88 [==============================] - 566s 6s/step - loss: 1.3799 - accuracy: 0.2775 - val_loss: 1.3737 - val_accuracy: 0.3517\n",
            "Epoch 14/20\n",
            "88/88 [==============================] - 557s 6s/step - loss: 1.3672 - accuracy: 0.3021 - val_loss: 1.3702 - val_accuracy: 0.3200\n",
            "Epoch 15/20\n",
            "88/88 [==============================] - 560s 6s/step - loss: 1.3604 - accuracy: 0.3229 - val_loss: 1.3676 - val_accuracy: 0.3250\n",
            "Epoch 16/20\n",
            "88/88 [==============================] - 570s 6s/step - loss: 1.3727 - accuracy: 0.3082 - val_loss: 1.3710 - val_accuracy: 0.3300\n",
            "Epoch 17/20\n",
            "88/88 [==============================] - 568s 6s/step - loss: 1.3609 - accuracy: 0.3332 - val_loss: 1.3498 - val_accuracy: 0.3600\n",
            "Epoch 18/20\n",
            "88/88 [==============================] - 566s 6s/step - loss: 1.3528 - accuracy: 0.3243 - val_loss: 1.3477 - val_accuracy: 0.3600\n",
            "Epoch 19/20\n",
            "88/88 [==============================] - 564s 6s/step - loss: 1.3521 - accuracy: 0.3479 - val_loss: 1.3578 - val_accuracy: 0.3250\n",
            "Epoch 20/20\n",
            "88/88 [==============================] - 562s 6s/step - loss: 1.3469 - accuracy: 0.3343 - val_loss: 1.3358 - val_accuracy: 0.3483\n"
          ]
        },
        {
          "output_type": "display_data",
          "data": {
            "text/plain": [
              "<Figure size 432x288 with 1 Axes>"
            ],
            "image/png": "[encoded data removed]"
          },
          "metadata": {
            "needs_background": "light"
          }
        },
        {
          "output_type": "execute_result",
          "data": {
            "text/plain": [
              "<keras.engine.sequential.Sequential at 0x7fe3a3acc710>"
            ]
          },
          "metadata": {},
          "execution_count": 15
        }
      ]
    },
    {
      "cell_type": "code",
      "source": [
        "test_loss_LSTM, test_acc_LSTM   = model_LSTM.evaluate(test_X, test_Y)\n",
        "print(\"Test Accuracy of LSTM model is\",np.round((test_acc_LSTM)*100,2))"
      ],
      "metadata": {
        "colab": {
          "base_uri": "https://localhost:8080/"
        },
        "id": "TqJWPQq665nA",
        "outputId": "a79f77d8-8038-476b-e158-9ceba9e23b6f"
      },
      "execution_count": null,
      "outputs": [
        {
          "output_type": "stream",
          "name": "stdout",
          "text": [
            "19/19 [==============================] - 13s 640ms/step - loss: 1.3476 - accuracy: 0.3050\n",
            "Test Accuracy of LSTM model is 30.5\n"
          ]
        }
      ]
    },
    {
      "cell_type": "markdown",
      "source": [
        "This method is the most time-consuming untill now. Eventhough it seems like the loss has been decreasing over epochs, however, it's loss is still higher than others method. Additionally, the accuracy of test set is even not as high as the simple RNN method."
      ],
      "metadata": {
        "id": "VExOhB1Uw7pu"
      }
    },
    {
      "cell_type": "markdown",
      "source": [
        "### 1.2.4. GRUs"
      ],
      "metadata": {
        "id": "OElYawSg7lb8"
      }
    },
    {
      "cell_type": "code",
      "source": [
        "## GRU\n",
        "model_gru = Sequential()\n",
        "model_gru.add(GRU(20, return_sequences=True, input_shape= X.shape[1:]))\n",
        "model_gru.add(GRU(20))\n",
        "model_gru.add(Dense(4, activation =\"softmax\") )\n",
        "\n",
        "model_gru.summary()\n",
        "\n",
        "train_plot(model_gru, 20)"
      ],
      "metadata": {
        "colab": {
          "base_uri": "https://localhost:8080/",
          "height": 1000
        },
        "id": "wtRg_9z2lm3l",
        "outputId": "e5dea434-29b7-40ee-e535-31a87d2810a1"
      },
      "execution_count": null,
      "outputs": [
        {
          "output_type": "stream",
          "name": "stdout",
          "text": [
            "Model: \"sequential_3\"\n",
            "_________________________________________________________________\n",
            " Layer (type)                Output Shape              Param #   \n",
            "=================================================================\n",
            " gru_2 (GRU)                 (None, 5000, 20)          1440      \n",
            "                                                                 \n",
            " gru_3 (GRU)                 (None, 20)                2520      \n",
            "                                                                 \n",
            " dense_3 (Dense)             (None, 4)                 84        \n",
            "                                                                 \n",
            "=================================================================\n",
            "Total params: 4,044\n",
            "Trainable params: 4,044\n",
            "Non-trainable params: 0\n",
            "_________________________________________________________________\n",
            "Epoch 1/20\n",
            "88/88 [==============================] - 522s 6s/step - loss: 1.3873 - accuracy: 0.2461 - val_loss: 1.3870 - val_accuracy: 0.2550\n",
            "Epoch 2/20\n",
            "88/88 [==============================] - 509s 6s/step - loss: 1.3867 - accuracy: 0.2625 - val_loss: 1.3874 - val_accuracy: 0.2367\n",
            "Epoch 3/20\n",
            "88/88 [==============================] - 513s 6s/step - loss: 1.3857 - accuracy: 0.2582 - val_loss: 1.3861 - val_accuracy: 0.2517\n",
            "Epoch 4/20\n",
            "88/88 [==============================] - 514s 6s/step - loss: 1.3852 - accuracy: 0.2614 - val_loss: 1.3871 - val_accuracy: 0.2700\n",
            "Epoch 5/20\n",
            "88/88 [==============================] - 514s 6s/step - loss: 1.3838 - accuracy: 0.2821 - val_loss: 1.3834 - val_accuracy: 0.2367\n",
            "Epoch 6/20\n",
            "88/88 [==============================] - 513s 6s/step - loss: 1.3818 - accuracy: 0.2807 - val_loss: 1.3794 - val_accuracy: 0.2983\n",
            "Epoch 7/20\n",
            "88/88 [==============================] - 512s 6s/step - loss: 1.3754 - accuracy: 0.3168 - val_loss: 1.3649 - val_accuracy: 0.3250\n",
            "Epoch 8/20\n",
            "88/88 [==============================] - 516s 6s/step - loss: 1.3467 - accuracy: 0.3304 - val_loss: 1.3100 - val_accuracy: 0.4033\n",
            "Epoch 9/20\n",
            "88/88 [==============================] - 508s 6s/step - loss: 1.2884 - accuracy: 0.3964 - val_loss: 1.2567 - val_accuracy: 0.4317\n",
            "Epoch 10/20\n",
            "88/88 [==============================] - 510s 6s/step - loss: 1.2649 - accuracy: 0.4089 - val_loss: 1.2232 - val_accuracy: 0.4483\n",
            "Epoch 11/20\n",
            "88/88 [==============================] - 511s 6s/step - loss: 1.2368 - accuracy: 0.4332 - val_loss: 1.2030 - val_accuracy: 0.4700\n",
            "Epoch 12/20\n",
            "88/88 [==============================] - 554s 6s/step - loss: 1.2186 - accuracy: 0.4364 - val_loss: 1.2143 - val_accuracy: 0.4350\n",
            "Epoch 13/20\n",
            "88/88 [==============================] - 529s 6s/step - loss: 1.1995 - accuracy: 0.4486 - val_loss: 1.1819 - val_accuracy: 0.4933\n",
            "Epoch 14/20\n",
            "88/88 [==============================] - 527s 6s/step - loss: 1.1801 - accuracy: 0.4643 - val_loss: 1.1299 - val_accuracy: 0.5083\n",
            "Epoch 15/20\n",
            "88/88 [==============================] - 510s 6s/step - loss: 1.1656 - accuracy: 0.4725 - val_loss: 1.1259 - val_accuracy: 0.5000\n",
            "Epoch 16/20\n",
            "88/88 [==============================] - 506s 6s/step - loss: 1.1528 - accuracy: 0.4729 - val_loss: 1.1050 - val_accuracy: 0.4983\n",
            "Epoch 17/20\n",
            "88/88 [==============================] - 508s 6s/step - loss: 1.1357 - accuracy: 0.4864 - val_loss: 1.0930 - val_accuracy: 0.5150\n",
            "Epoch 18/20\n",
            "88/88 [==============================] - 514s 6s/step - loss: 1.1168 - accuracy: 0.5007 - val_loss: 1.0854 - val_accuracy: 0.5300\n",
            "Epoch 19/20\n",
            "88/88 [==============================] - 511s 6s/step - loss: 1.1073 - accuracy: 0.5096 - val_loss: 1.0507 - val_accuracy: 0.5167\n",
            "Epoch 20/20\n",
            "88/88 [==============================] - 509s 6s/step - loss: 1.0992 - accuracy: 0.5064 - val_loss: 1.0941 - val_accuracy: 0.5200\n"
          ]
        },
        {
          "output_type": "display_data",
          "data": {
            "text/plain": [
              "<Figure size 432x288 with 1 Axes>"
            ],
            "image/png": "[encoded data removed]"
          },
          "metadata": {
            "needs_background": "light"
          }
        },
        {
          "output_type": "execute_result",
          "data": {
            "text/plain": [
              "<keras.engine.sequential.Sequential at 0x7fbc803be050>"
            ]
          },
          "metadata": {},
          "execution_count": 21
        }
      ]
    },
    {
      "cell_type": "code",
      "source": [
        "test_loss_GRUs, test_acc_GRUs   = model_gru.evaluate(test_X, test_Y)\n",
        "print(\"Test Accuracy of GRUs model is\",np.round((test_acc_GRUs)*100,2))"
      ],
      "metadata": {
        "colab": {
          "base_uri": "https://localhost:8080/"
        },
        "id": "ONM0ZbyTHQ3D",
        "outputId": "bba9a018-64a8-4791-9b48-bdfbec775890"
      },
      "execution_count": null,
      "outputs": [
        {
          "output_type": "stream",
          "name": "stdout",
          "text": [
            "19/19 [==============================] - 10s 506ms/step - loss: 1.1358 - accuracy: 0.4817\n",
            "Test Accuracy of GRUs model is 48.17\n"
          ]
        }
      ]
    },
    {
      "cell_type": "markdown",
      "source": [
        "This methos is time consuming also. The accuracy for test set is around 48%, which is still better than LSTM method when comparing the same time for each epoch runs."
      ],
      "metadata": {
        "id": "gTEdbPQaYny7"
      }
    },
    {
      "cell_type": "markdown",
      "source": [
        "### 1.2.5. 1-dimensional convolutional layers"
      ],
      "metadata": {
        "id": "3T91mweAHX00"
      }
    },
    {
      "cell_type": "code",
      "source": [
        "model_conv1D = Sequential()\n",
        "model_conv1D.add(Conv1D(filters=20, kernel_size=4, strides=2, \n",
        "                        padding=\"valid\",input_shape=X.shape[1:]) )\n",
        "model_conv1D.add(GRU(20))\n",
        "model_conv1D.add(Dense(4, activation =\"softmax\") )\n",
        "\n",
        "model_conv1D.summary()\n",
        "\n",
        "train_plot(model_conv1D, 20)"
      ],
      "metadata": {
        "id": "saY5jpiHlm5j",
        "colab": {
          "base_uri": "https://localhost:8080/",
          "height": 1000
        },
        "outputId": "fb4ece58-ab6a-4988-dcf5-ad7b672a8bf5"
      },
      "execution_count": null,
      "outputs": [
        {
          "output_type": "stream",
          "name": "stdout",
          "text": [
            "Model: \"sequential_6\"\n",
            "_________________________________________________________________\n",
            " Layer (type)                Output Shape              Param #   \n",
            "=================================================================\n",
            " conv1d_1 (Conv1D)           (None, 2499, 20)          180       \n",
            "                                                                 \n",
            " gru_3 (GRU)                 (None, 20)                2520      \n",
            "                                                                 \n",
            " dense_6 (Dense)             (None, 4)                 84        \n",
            "                                                                 \n",
            "=================================================================\n",
            "Total params: 2,784\n",
            "Trainable params: 2,784\n",
            "Non-trainable params: 0\n",
            "_________________________________________________________________\n",
            "Epoch 1/20\n",
            "88/88 [==============================] - 152s 2s/step - loss: 1.3869 - accuracy: 0.2479 - val_loss: 1.3849 - val_accuracy: 0.3600\n",
            "Epoch 2/20\n",
            "88/88 [==============================] - 144s 2s/step - loss: 1.3849 - accuracy: 0.2821 - val_loss: 1.3831 - val_accuracy: 0.2367\n",
            "Epoch 3/20\n",
            "88/88 [==============================] - 143s 2s/step - loss: 1.3812 - accuracy: 0.2811 - val_loss: 1.3771 - val_accuracy: 0.3683\n",
            "Epoch 4/20\n",
            "88/88 [==============================] - 143s 2s/step - loss: 1.3746 - accuracy: 0.3268 - val_loss: 1.3649 - val_accuracy: 0.4000\n",
            "Epoch 5/20\n",
            "88/88 [==============================] - 145s 2s/step - loss: 1.3581 - accuracy: 0.3414 - val_loss: 1.3364 - val_accuracy: 0.4100\n",
            "Epoch 6/20\n",
            "88/88 [==============================] - 144s 2s/step - loss: 1.3160 - accuracy: 0.3950 - val_loss: 1.3004 - val_accuracy: 0.4283\n",
            "Epoch 7/20\n",
            "88/88 [==============================] - 147s 2s/step - loss: 1.2936 - accuracy: 0.4125 - val_loss: 1.2874 - val_accuracy: 0.3700\n",
            "Epoch 8/20\n",
            "88/88 [==============================] - 147s 2s/step - loss: 1.2740 - accuracy: 0.4154 - val_loss: 1.2712 - val_accuracy: 0.3833\n",
            "Epoch 9/20\n",
            "88/88 [==============================] - 148s 2s/step - loss: 1.2575 - accuracy: 0.4293 - val_loss: 1.2524 - val_accuracy: 0.4283\n",
            "Epoch 10/20\n",
            "88/88 [==============================] - 149s 2s/step - loss: 1.2352 - accuracy: 0.4436 - val_loss: 1.2259 - val_accuracy: 0.4600\n",
            "Epoch 11/20\n",
            "88/88 [==============================] - 151s 2s/step - loss: 1.2057 - accuracy: 0.4650 - val_loss: 1.1997 - val_accuracy: 0.4750\n",
            "Epoch 12/20\n",
            "88/88 [==============================] - 148s 2s/step - loss: 1.1880 - accuracy: 0.4757 - val_loss: 1.2565 - val_accuracy: 0.3833\n",
            "Epoch 13/20\n",
            "88/88 [==============================] - 149s 2s/step - loss: 1.1596 - accuracy: 0.4836 - val_loss: 1.1580 - val_accuracy: 0.4783\n",
            "Epoch 14/20\n",
            "88/88 [==============================] - 148s 2s/step - loss: 1.1397 - accuracy: 0.5025 - val_loss: 1.1596 - val_accuracy: 0.4683\n",
            "Epoch 15/20\n",
            "88/88 [==============================] - 145s 2s/step - loss: 1.1245 - accuracy: 0.4986 - val_loss: 1.1312 - val_accuracy: 0.4900\n",
            "Epoch 16/20\n",
            "88/88 [==============================] - 148s 2s/step - loss: 1.1123 - accuracy: 0.5086 - val_loss: 1.0980 - val_accuracy: 0.4933\n",
            "Epoch 17/20\n",
            "88/88 [==============================] - 149s 2s/step - loss: 1.0790 - accuracy: 0.5207 - val_loss: 1.0768 - val_accuracy: 0.5083\n",
            "Epoch 18/20\n",
            "88/88 [==============================] - 145s 2s/step - loss: 1.0661 - accuracy: 0.5204 - val_loss: 1.0801 - val_accuracy: 0.5167\n",
            "Epoch 19/20\n",
            "88/88 [==============================] - 144s 2s/step - loss: 1.0698 - accuracy: 0.5154 - val_loss: 1.0603 - val_accuracy: 0.5367\n",
            "Epoch 20/20\n",
            "88/88 [==============================] - 145s 2s/step - loss: 1.0433 - accuracy: 0.5382 - val_loss: 1.0445 - val_accuracy: 0.5317\n"
          ]
        },
        {
          "output_type": "display_data",
          "data": {
            "text/plain": [
              "<Figure size 432x288 with 1 Axes>"
            ],
            "image/png": "[encoded data removed]"
          },
          "metadata": {
            "needs_background": "light"
          }
        },
        {
          "output_type": "execute_result",
          "data": {
            "text/plain": [
              "<keras.engine.sequential.Sequential at 0x7fe3a015d690>"
            ]
          },
          "metadata": {},
          "execution_count": 20
        }
      ]
    },
    {
      "cell_type": "code",
      "source": [
        "test_loss_conv1D, test_acc_conv1D   = model_conv1D.evaluate(test_X, test_Y)\n",
        "print(\"Test Accuracy of Conv1D model is\",np.round((test_acc_conv1D)*100,2))"
      ],
      "metadata": {
        "id": "mmejletRHg2z",
        "colab": {
          "base_uri": "https://localhost:8080/"
        },
        "outputId": "20f18147-d082-4511-d2b1-cd9d9f529a17"
      },
      "execution_count": null,
      "outputs": [
        {
          "output_type": "stream",
          "name": "stdout",
          "text": [
            "19/19 [==============================] - 4s 212ms/step - loss: 1.0926 - accuracy: 0.5100\n",
            "Test Accuracy of Conv1D model is 51.0\n"
          ]
        }
      ]
    },
    {
      "cell_type": "markdown",
      "source": [
        "## 1.3. Choosing model\n",
        "As we can see, most of the method are quite time consuming. After considering several model, the model that gave us the highest accuracy for the test set is Deeper RNN, which is about 78% for accuracy .\n",
        "\n",
        "The reason is that deeper network is a more complex method and non-linear function can be learned. Given sufficient training data, this enables the networks to more easily discriminate between different classes."
      ],
      "metadata": {
        "id": "DSOgDpxfK2m5"
      }
    },
    {
      "cell_type": "markdown",
      "source": [
        "# 2. Convert the data for use with a CNN"
      ],
      "metadata": {
        "id": "POj5guGXF3DX"
      }
    },
    {
      "cell_type": "markdown",
      "source": [
        "Base on the above image, each time series will be 1 columns. Therefore, we will first reshape our 2 time series set, to make one wind turbine in each time series into a single (100,50), then combine them together later to make them into shape (100,100)"
      ],
      "metadata": {
        "id": "9y2XgO_ENSpF"
      }
    },
    {
      "cell_type": "code",
      "source": [
        "# reshape 2 time series\n",
        "series_1_reshape = time_1.reshape(time_1.shape[0], 100, 50)\n",
        "series_2_reshape = time_2.reshape(time_2.shape[0], 100, 50)\n",
        "x_reshape = np.concatenate((series_1_reshape, series_2_reshape), axis =2 )\n",
        "x_reshape.shape"
      ],
      "metadata": {
        "colab": {
          "base_uri": "https://localhost:8080/"
        },
        "id": "R9VPsp8G2FXt",
        "outputId": "1c230236-2b13-41ce-bf2c-c7fda8375091"
      },
      "execution_count": null,
      "outputs": [
        {
          "output_type": "execute_result",
          "data": {
            "text/plain": [
              "(4000, 100, 100)"
            ]
          },
          "metadata": {},
          "execution_count": 10
        }
      ]
    },
    {
      "cell_type": "code",
      "source": [
        "# split data into train, validation and test set\n",
        "other_X_reshape, test_X_reshape, other_Y_reshape, test_Y_reshape = train_test_split(x_reshape, y, test_size=0.15, random_state = 123)\n",
        "train_X_reshape, valid_X_reshape, train_Y_reshape, valid_Y_reshape = train_test_split(other_X_reshape, other_Y_reshape, \n",
        "                                                                                      test_size=0.15/0.85, random_state = 123)\n",
        "print(test_X_reshape.shape, test_Y_reshape.shape)\n",
        "print(valid_X_reshape.shape, valid_Y_reshape.shape)\n",
        "print(train_X_reshape.shape, train_Y_reshape.shape)"
      ],
      "metadata": {
        "colab": {
          "base_uri": "https://localhost:8080/"
        },
        "id": "YKARnr4o3vYZ",
        "outputId": "f20adbcb-74ab-4c4f-c64d-027368544ad4"
      },
      "execution_count": null,
      "outputs": [
        {
          "output_type": "stream",
          "name": "stdout",
          "text": [
            "(600, 100, 100) (600,)\n",
            "(600, 100, 100) (600,)\n",
            "(2800, 100, 100) (2800,)\n"
          ]
        }
      ]
    },
    {
      "cell_type": "markdown",
      "source": [
        "Let's plot image of `train_x_reshape`"
      ],
      "metadata": {
        "id": "4rfO_IC6NBW5"
      }
    },
    {
      "cell_type": "code",
      "source": [
        "plt.imshow(train_X_reshape[0],cmap = 'gray')"
      ],
      "metadata": {
        "colab": {
          "base_uri": "https://localhost:8080/",
          "height": 286
        },
        "id": "kBr99GyP2FiX",
        "outputId": "61193083-439a-4099-e947-ac193be3ee4f"
      },
      "execution_count": null,
      "outputs": [
        {
          "output_type": "execute_result",
          "data": {
            "text/plain": [
              "<matplotlib.image.AxesImage at 0x7f90e44f17d0>"
            ]
          },
          "metadata": {},
          "execution_count": 45
        },
        {
          "output_type": "display_data",
          "data": {
            "text/plain": [
              "<Figure size 432x288 with 1 Axes>"
            ],
            "image/png": "[encoded data removed]"
          },
          "metadata": {
            "needs_background": "light"
          }
        }
      ]
    },
    {
      "cell_type": "code",
      "source": [
        "# encode y \n",
        "y_test_reshape = to_categorical(test_Y_reshape)\n",
        "y_valid_reshape = to_categorical(valid_Y_reshape)\n",
        "y_train_reshape = to_categorical(train_Y_reshape)\n",
        "# check shape \n",
        "print(y_train_reshape.shape)\n",
        "print(y_valid_reshape.shape)\n",
        "print(y_test_reshape.shape)"
      ],
      "metadata": {
        "colab": {
          "base_uri": "https://localhost:8080/"
        },
        "id": "AFnbcIjcIg0Z",
        "outputId": "1a491642-dfa7-459d-f195-bb7bfee50132"
      },
      "execution_count": null,
      "outputs": [
        {
          "output_type": "stream",
          "name": "stdout",
          "text": [
            "(2800, 4)\n",
            "(600, 4)\n",
            "(600, 4)\n"
          ]
        }
      ]
    },
    {
      "cell_type": "markdown",
      "source": [
        "We would normalize the values to range from 0 to 1. In this way, the numbers will be small and the computation becomes easier and faster. So dividing all the values by 255 will convert it to range from 0 to 1"
      ],
      "metadata": {
        "id": "mbS8cEYJBo78"
      }
    },
    {
      "cell_type": "code",
      "source": [
        "# reshape data for CNN\n",
        "# change into shape (100,100,1), and scaled data\n",
        "x_train_reshape = train_X_reshape[..., np.newaxis] / 255.\n",
        "x_valid_reshape = valid_X_reshape[..., np.newaxis] / 255.\n",
        "x_test_reshape = test_X_reshape[..., np.newaxis] / 255.\n",
        "# check shape \n",
        "print(x_train_reshape.shape)\n",
        "print(x_valid_reshape.shape)\n",
        "print(x_test_reshape.shape)"
      ],
      "metadata": {
        "colab": {
          "base_uri": "https://localhost:8080/"
        },
        "id": "P0EZD4Eh2FlV",
        "outputId": "dc0d4be8-372d-4c26-b5b9-8f3393301a01"
      },
      "execution_count": null,
      "outputs": [
        {
          "output_type": "stream",
          "name": "stdout",
          "text": [
            "(2800, 100, 100, 1)\n",
            "(600, 100, 100, 1)\n",
            "(600, 100, 100, 1)\n"
          ]
        }
      ]
    },
    {
      "cell_type": "markdown",
      "source": [
        "# 3. CNN with two convolutional layers"
      ],
      "metadata": {
        "id": "4nKahAGpF8pM"
      }
    },
    {
      "cell_type": "code",
      "source": [
        "# build model\n",
        "fig12 = Sequential()\n",
        "\n",
        "fig12.add(Conv2D(32, (3,3), input_shape = x_train_reshape.shape[1:]))\n",
        "fig12.add(Conv2D(32, (3,3)))\n",
        "fig12.add(Dropout(0.2))\n",
        "\n",
        "fig12.add(Conv2D(16, (3,3)) )\n",
        "fig12.add(Activation('relu'))\n",
        "fig12.add(MaxPooling2D(pool_size=(3, 3)))\n",
        "\n",
        "fig12.add(Flatten())  # this converts our 4D feature maps to 2D feature vectors\n",
        "fig12.add(Dense(4,activation='softmax'))\n",
        "\n",
        "fig12.summary()"
      ],
      "metadata": {
        "id": "40Zui9ULF8D-",
        "colab": {
          "base_uri": "https://localhost:8080/"
        },
        "outputId": "d28e1267-69af-465d-e980-f85999492de2"
      },
      "execution_count": null,
      "outputs": [
        {
          "output_type": "stream",
          "name": "stdout",
          "text": [
            "Model: \"sequential_12\"\n",
            "_________________________________________________________________\n",
            " Layer (type)                Output Shape              Param #   \n",
            "=================================================================\n",
            " conv2d_16 (Conv2D)          (None, 98, 98, 32)        320       \n",
            "                                                                 \n",
            " conv2d_17 (Conv2D)          (None, 96, 96, 32)        9248      \n",
            "                                                                 \n",
            " dropout_2 (Dropout)         (None, 96, 96, 32)        0         \n",
            "                                                                 \n",
            " conv2d_18 (Conv2D)          (None, 94, 94, 16)        4624      \n",
            "                                                                 \n",
            " activation_24 (Activation)  (None, 94, 94, 16)        0         \n",
            "                                                                 \n",
            " max_pooling2d_12 (MaxPoolin  (None, 31, 31, 16)       0         \n",
            " g2D)                                                            \n",
            "                                                                 \n",
            " flatten_9 (Flatten)         (None, 15376)             0         \n",
            "                                                                 \n",
            " dense_17 (Dense)            (None, 4)                 61508     \n",
            "                                                                 \n",
            "=================================================================\n",
            "Total params: 75,700\n",
            "Trainable params: 75,700\n",
            "Non-trainable params: 0\n",
            "_________________________________________________________________\n"
          ]
        }
      ]
    },
    {
      "cell_type": "code",
      "source": [
        "keras.utils.plot_model(fig12, show_shapes=True)"
      ],
      "metadata": {
        "colab": {
          "base_uri": "https://localhost:8080/",
          "height": 976
        },
        "id": "Yblvtg1n4kKe",
        "outputId": "7848ee61-c39b-42a5-c563-3f06bbdfca5c"
      },
      "execution_count": null,
      "outputs": [
        {
          "output_type": "execute_result",
          "data": {
            "text/plain": [
              "<IPython.core.display.Image object>"
            ],
            "image/png": "[encoded data removed]"
          },
          "metadata": {},
          "execution_count": 48
        }
      ]
    },
    {
      "cell_type": "code",
      "source": [
        "fig12.compile(loss=\"categorical_crossentropy\", # for one hot encode output \n",
        "              # The RMSprop optimizer restricts the oscillations in the vertical direction. \n",
        "              # Therefore, we can increase our learning rate and our algorithm could take larger steps \n",
        "              # in the horizontal direction converging faster. \n",
        "              optimizer='rmsprop',\n",
        "              metrics=['accuracy'])\n",
        "log_fig12 = fig12.fit(x_train_reshape, y_train_reshape, epochs=40,\n",
        "                    validation_data=(x_valid_reshape, y_valid_reshape),\n",
        "                    verbose=1, \n",
        "                    )"
      ],
      "metadata": {
        "colab": {
          "base_uri": "https://localhost:8080/"
        },
        "id": "qxf0tb8zBXZv",
        "outputId": "aa068154-fd01-4882-b81b-27790c08ad24"
      },
      "execution_count": null,
      "outputs": [
        {
          "output_type": "stream",
          "name": "stdout",
          "text": [
            "Epoch 1/40\n",
            "88/88 [==============================] - 99s 1s/step - loss: 11.4510 - accuracy: 0.6093 - val_loss: 0.3196 - val_accuracy: 0.8867\n",
            "Epoch 2/40\n",
            "88/88 [==============================] - 98s 1s/step - loss: 0.3749 - accuracy: 0.8657 - val_loss: 0.4786 - val_accuracy: 0.8517\n",
            "Epoch 3/40\n",
            "88/88 [==============================] - 98s 1s/step - loss: 0.3270 - accuracy: 0.8757 - val_loss: 0.7199 - val_accuracy: 0.7650\n",
            "Epoch 4/40\n",
            "88/88 [==============================] - 98s 1s/step - loss: 0.2891 - accuracy: 0.8832 - val_loss: 0.2514 - val_accuracy: 0.8867\n",
            "Epoch 5/40\n",
            "88/88 [==============================] - 98s 1s/step - loss: 0.2822 - accuracy: 0.8807 - val_loss: 0.2721 - val_accuracy: 0.8850\n",
            "Epoch 6/40\n",
            "88/88 [==============================] - 98s 1s/step - loss: 0.2708 - accuracy: 0.8900 - val_loss: 0.3628 - val_accuracy: 0.7900\n",
            "Epoch 7/40\n",
            "88/88 [==============================] - 98s 1s/step - loss: 0.2756 - accuracy: 0.8804 - val_loss: 0.3063 - val_accuracy: 0.8350\n",
            "Epoch 8/40\n",
            "88/88 [==============================] - 98s 1s/step - loss: 0.2771 - accuracy: 0.8807 - val_loss: 0.4860 - val_accuracy: 0.8900\n",
            "Epoch 9/40\n",
            "88/88 [==============================] - 98s 1s/step - loss: 0.2743 - accuracy: 0.8900 - val_loss: 0.2489 - val_accuracy: 0.8867\n",
            "Epoch 10/40\n",
            "88/88 [==============================] - 98s 1s/step - loss: 0.2711 - accuracy: 0.8907 - val_loss: 0.9133 - val_accuracy: 0.6733\n",
            "Epoch 11/40\n",
            "88/88 [==============================] - 98s 1s/step - loss: 0.2602 - accuracy: 0.8886 - val_loss: 0.2775 - val_accuracy: 0.8867\n",
            "Epoch 12/40\n",
            "88/88 [==============================] - 98s 1s/step - loss: 0.2696 - accuracy: 0.8864 - val_loss: 0.2438 - val_accuracy: 0.8883\n",
            "Epoch 13/40\n",
            "88/88 [==============================] - 98s 1s/step - loss: 0.2534 - accuracy: 0.8921 - val_loss: 0.2483 - val_accuracy: 0.8833\n",
            "Epoch 14/40\n",
            "88/88 [==============================] - 98s 1s/step - loss: 0.2815 - accuracy: 0.8857 - val_loss: 0.2513 - val_accuracy: 0.8883\n",
            "Epoch 15/40\n",
            "88/88 [==============================] - 98s 1s/step - loss: 0.2503 - accuracy: 0.8968 - val_loss: 0.2608 - val_accuracy: 0.8850\n",
            "Epoch 16/40\n",
            "88/88 [==============================] - 98s 1s/step - loss: 0.2620 - accuracy: 0.8918 - val_loss: 0.2435 - val_accuracy: 0.8850\n",
            "Epoch 17/40\n",
            "88/88 [==============================] - 98s 1s/step - loss: 0.2555 - accuracy: 0.8954 - val_loss: 0.2478 - val_accuracy: 0.8817\n",
            "Epoch 18/40\n",
            "88/88 [==============================] - 100s 1s/step - loss: 0.2518 - accuracy: 0.8904 - val_loss: 0.2642 - val_accuracy: 0.8850\n",
            "Epoch 19/40\n",
            "88/88 [==============================] - 98s 1s/step - loss: 0.2580 - accuracy: 0.8904 - val_loss: 0.2856 - val_accuracy: 0.8350\n",
            "Epoch 20/40\n",
            "88/88 [==============================] - 98s 1s/step - loss: 0.2447 - accuracy: 0.8971 - val_loss: 0.2505 - val_accuracy: 0.8867\n",
            "Epoch 21/40\n",
            "88/88 [==============================] - 98s 1s/step - loss: 0.2384 - accuracy: 0.8982 - val_loss: 0.2698 - val_accuracy: 0.8700\n",
            "Epoch 22/40\n",
            "88/88 [==============================] - 98s 1s/step - loss: 0.2540 - accuracy: 0.8954 - val_loss: 0.2500 - val_accuracy: 0.8867\n",
            "Epoch 23/40\n",
            "88/88 [==============================] - 98s 1s/step - loss: 0.2519 - accuracy: 0.9007 - val_loss: 0.2390 - val_accuracy: 0.8833\n",
            "Epoch 24/40\n",
            "88/88 [==============================] - 98s 1s/step - loss: 0.2474 - accuracy: 0.8957 - val_loss: 0.2442 - val_accuracy: 0.8867\n",
            "Epoch 25/40\n",
            "88/88 [==============================] - 98s 1s/step - loss: 0.2431 - accuracy: 0.8971 - val_loss: 0.2515 - val_accuracy: 0.8867\n",
            "Epoch 26/40\n",
            "88/88 [==============================] - 97s 1s/step - loss: 0.2360 - accuracy: 0.8979 - val_loss: 0.2686 - val_accuracy: 0.8867\n",
            "Epoch 27/40\n",
            "88/88 [==============================] - 97s 1s/step - loss: 0.2438 - accuracy: 0.8957 - val_loss: 0.2454 - val_accuracy: 0.8850\n",
            "Epoch 28/40\n",
            "88/88 [==============================] - 97s 1s/step - loss: 0.2352 - accuracy: 0.9000 - val_loss: 0.2572 - val_accuracy: 0.8867\n",
            "Epoch 29/40\n",
            "88/88 [==============================] - 97s 1s/step - loss: 0.2392 - accuracy: 0.8993 - val_loss: 0.2790 - val_accuracy: 0.8867\n",
            "Epoch 30/40\n",
            "88/88 [==============================] - 97s 1s/step - loss: 0.2546 - accuracy: 0.9000 - val_loss: 0.2761 - val_accuracy: 0.8867\n",
            "Epoch 31/40\n",
            "88/88 [==============================] - 98s 1s/step - loss: 0.2435 - accuracy: 0.9004 - val_loss: 0.2498 - val_accuracy: 0.8900\n",
            "Epoch 32/40\n",
            "88/88 [==============================] - 97s 1s/step - loss: 0.2302 - accuracy: 0.9032 - val_loss: 0.2595 - val_accuracy: 0.8233\n",
            "Epoch 33/40\n",
            "88/88 [==============================] - 97s 1s/step - loss: 0.2346 - accuracy: 0.8957 - val_loss: 0.2489 - val_accuracy: 0.8850\n",
            "Epoch 34/40\n",
            "88/88 [==============================] - 97s 1s/step - loss: 0.2392 - accuracy: 0.8982 - val_loss: 0.2523 - val_accuracy: 0.8850\n",
            "Epoch 35/40\n",
            "88/88 [==============================] - 97s 1s/step - loss: 0.2404 - accuracy: 0.8982 - val_loss: 0.2479 - val_accuracy: 0.8850\n",
            "Epoch 36/40\n",
            "88/88 [==============================] - 97s 1s/step - loss: 0.2354 - accuracy: 0.9004 - val_loss: 0.2384 - val_accuracy: 0.8883\n",
            "Epoch 37/40\n",
            "88/88 [==============================] - 97s 1s/step - loss: 0.2374 - accuracy: 0.8996 - val_loss: 0.2914 - val_accuracy: 0.8417\n",
            "Epoch 38/40\n",
            "88/88 [==============================] - 97s 1s/step - loss: 0.2316 - accuracy: 0.9021 - val_loss: 0.2878 - val_accuracy: 0.7850\n",
            "Epoch 39/40\n",
            "88/88 [==============================] - 97s 1s/step - loss: 0.2332 - accuracy: 0.8975 - val_loss: 0.2672 - val_accuracy: 0.8850\n",
            "Epoch 40/40\n",
            "88/88 [==============================] - 97s 1s/step - loss: 0.2401 - accuracy: 0.8961 - val_loss: 0.2450 - val_accuracy: 0.8867\n"
          ]
        }
      ]
    },
    {
      "cell_type": "code",
      "source": [
        "# Visualising Training and Validation Loss\n",
        "plt.plot(log_fig12.history['loss'], label='train')\n",
        "plt.plot(log_fig12.history['val_loss'], label='valid')\n",
        "plt.legend()\n",
        "plt.xlabel('Epochs')\n",
        "plt.show()"
      ],
      "metadata": {
        "colab": {
          "base_uri": "https://localhost:8080/",
          "height": 283
        },
        "id": "xZJi_MxhyAup",
        "outputId": "0c026fab-3731-4c40-cde6-59b5dd703a8f"
      },
      "execution_count": null,
      "outputs": [
        {
          "output_type": "display_data",
          "data": {
            "text/plain": [
              "<Figure size 432x288 with 1 Axes>"
            ],
            "image/png": "[encoded data removed]"
          },
          "metadata": {
            "needs_background": "light"
          }
        }
      ]
    },
    {
      "cell_type": "code",
      "source": [
        "## Visualising Training and Validation Accuracy\n",
        "plt.plot(log_fig12.history['accuracy'])\n",
        "plt.plot(log_fig12.history['val_accuracy'])\n",
        "plt.legend(['Training', 'Validation'])\n",
        "plt.title('Accuracy')\n",
        "plt.xlabel('Epochs')"
      ],
      "metadata": {
        "colab": {
          "base_uri": "https://localhost:8080/",
          "height": 313
        },
        "id": "VRsBd678HTAQ",
        "outputId": "6f82edb2-21aa-41be-aba8-b8bb64da580a"
      },
      "execution_count": null,
      "outputs": [
        {
          "output_type": "execute_result",
          "data": {
            "text/plain": [
              "Text(0.5, 0, 'Epochs')"
            ]
          },
          "metadata": {},
          "execution_count": 78
        },
        {
          "output_type": "display_data",
          "data": {
            "text/plain": [
              "<Figure size 432x288 with 1 Axes>"
            ],
            "image/png": "[encoded data removed]"
          },
          "metadata": {
            "needs_background": "light"
          }
        }
      ]
    },
    {
      "cell_type": "markdown",
      "source": [
        "To plot above visulaized how loss and accuracy of training and validation set looks like. It seems like loss of this model for validation set quite low and stable, while the accuracy is fluctuate. However, the accuracy final validation set is high, which is around 88%. "
      ],
      "metadata": {
        "id": "O8HRTS9lDKV6"
      }
    },
    {
      "cell_type": "code",
      "source": [
        "val_loss, val_acc = fig12.evaluate(x_test_reshape, y_test_reshape)  # evaluate the out of sample data with model\n",
        "print(\"Model's loss (error) is\",round(val_loss*100,2))  # model's loss (error)\n",
        "print(\"Model's accuracy is\",round(val_acc*100,2))  # model's accuracy"
      ],
      "metadata": {
        "id": "Sl1TonHwx0Ox",
        "colab": {
          "base_uri": "https://localhost:8080/"
        },
        "outputId": "87686536-9e21-4a54-c2be-8711b76a46f0"
      },
      "execution_count": null,
      "outputs": [
        {
          "output_type": "stream",
          "name": "stdout",
          "text": [
            "19/19 [==============================] - 4s 212ms/step - loss: 0.2628 - accuracy: 0.8867\n",
            "Model's loss (error) is 26.28\n",
            "Model's accuracy is 88.67\n"
          ]
        }
      ]
    },
    {
      "cell_type": "markdown",
      "source": [
        "For evaluating the test set, we have seen that CNN model has the accuracy of 88%, which is the best accuracy so far. Also, the gap between accuracy of validation set and test set were not too high, which is exceptable, and it also indicates that our model have not been overfitted. The reason for better accuracy compared to RNN method is that CNNs work well with data that has a spatial relationship (in this case is pitch angle and the generator torque)"
      ],
      "metadata": {
        "id": "y77ul4o-Xu31"
      }
    },
    {
      "cell_type": "markdown",
      "source": [
        "# 4. Adjusting the CNN"
      ],
      "metadata": {
        "id": "gQMf5jW5xjFF"
      }
    },
    {
      "cell_type": "markdown",
      "source": [
        "## Pre-trained CNN"
      ],
      "metadata": {
        "id": "CElOMv6qxjFF"
      }
    },
    {
      "cell_type": "markdown",
      "source": [
        "The paper has already tune with different nodes per layer (20, 32, 128) and different convulational layers (1,2,3,4). In this pre-trained step, we would also try to change different number of nodes per layers, convulational layers and dense layers but with some otherd random combination to compared them."
      ],
      "metadata": {
        "id": "H29ap3nH1nwr"
      }
    },
    {
      "cell_type": "markdown",
      "source": [
        "For better CNN model, we will try to play with several random number of node-per-layer like (16,32,64,128) and convulational layers like (1,2,3). For the dense layers, we will keep it as 4 over all tuning trial as we want to keep it simple. Then, we will use Tensorboard to better visualize our model's training stats over time."
      ],
      "metadata": {
        "id": "OYNZTpegxjFF"
      }
    },
    {
      "cell_type": "code",
      "source": [
        "%load_ext tensorboard"
      ],
      "metadata": {
        "id": "FYTyE0h1xjFF"
      },
      "execution_count": null,
      "outputs": []
    },
    {
      "cell_type": "code",
      "source": [
        "rm -rf ./logs/"
      ],
      "metadata": {
        "id": "V7YoBAaexjFF"
      },
      "execution_count": null,
      "outputs": []
    },
    {
      "cell_type": "code",
      "source": [
        "dense_layer = 4\n",
        "layer_sizes = [16, 32, 64, 128]\n",
        "conv_layers = [1, 2, 3]\n",
        "\n",
        "for layer_size in layer_sizes:\n",
        "    for conv_layer in conv_layers:\n",
        "        NAME = \"{}-conv-{}-nodes-{}-dense-{}\".format(conv_layer, layer_size, 4, int(time.time()))\n",
        "        print(NAME)\n",
        "\n",
        "        model = Sequential()\n",
        "\n",
        "        model.add(Conv2D(layer_size, (3, 3), input_shape=x_train_reshape.shape[1:]))\n",
        "        model.add(Activation('relu'))\n",
        "        model.add(MaxPooling2D(pool_size=(2, 2)))\n",
        "\n",
        "        for l in range(conv_layer-1):\n",
        "            model.add(Conv2D(layer_size, (3, 3)))\n",
        "            model.add(Activation('relu'))\n",
        "            model.add(MaxPooling2D(pool_size=(2, 2)))\n",
        "\n",
        "        model.add(Flatten())\n",
        "        for _ in range(dense_layer):\n",
        "            model.add(Dense(layer_size))\n",
        "            model.add(Activation('relu'))\n",
        "\n",
        "        model.add(Dense(4))\n",
        "        model.add(Activation('softmax'))\n",
        "\n",
        "        tensorboard_callback = TensorBoard(log_dir=\"logs/{}\".format(NAME))\n",
        "\n",
        "        model.compile(loss='categorical_crossentropy',\n",
        "                      optimizer='rmsprop',\n",
        "                      metrics=['accuracy'],\n",
        "                      )\n",
        "\n",
        "        model.fit(x_train_reshape, y_train_reshape,\n",
        "                  epochs=20,\n",
        "                  validation_data=(x_valid_reshape, y_valid_reshape),\n",
        "                  callbacks=[tensorboard_callback]\n",
        "                  )"
      ],
      "metadata": {
        "colab": {
          "base_uri": "https://localhost:8080/"
        },
        "outputId": "f61c0b9f-4e09-4d40-e462-f6da0ac28d40",
        "id": "OVKajILUxjFF"
      },
      "execution_count": null,
      "outputs": [
        {
          "output_type": "stream",
          "name": "stdout",
          "text": [
            "1-conv-16-nodes-4-dense-1649656502\n",
            "Epoch 1/20\n",
            "88/88 [==============================] - 12s 121ms/step - loss: 1.4055 - accuracy: 0.2764 - val_loss: 1.3674 - val_accuracy: 0.2517\n",
            "Epoch 2/20\n",
            "88/88 [==============================] - 9s 101ms/step - loss: 1.3869 - accuracy: 0.2393 - val_loss: 1.3864 - val_accuracy: 0.2467\n",
            "Epoch 3/20\n",
            "88/88 [==============================] - 9s 101ms/step - loss: 1.3865 - accuracy: 0.2450 - val_loss: 1.3869 - val_accuracy: 0.2367\n",
            "Epoch 4/20\n",
            "88/88 [==============================] - 9s 101ms/step - loss: 1.3864 - accuracy: 0.2546 - val_loss: 1.3871 - val_accuracy: 0.2367\n",
            "Epoch 5/20\n",
            "88/88 [==============================] - 9s 102ms/step - loss: 1.3863 - accuracy: 0.2582 - val_loss: 1.3872 - val_accuracy: 0.2367\n",
            "Epoch 6/20\n",
            "88/88 [==============================] - 9s 102ms/step - loss: 1.3863 - accuracy: 0.2582 - val_loss: 1.3872 - val_accuracy: 0.2367\n",
            "Epoch 7/20\n",
            "88/88 [==============================] - 9s 102ms/step - loss: 1.3863 - accuracy: 0.2582 - val_loss: 1.3873 - val_accuracy: 0.2367\n",
            "Epoch 8/20\n",
            "88/88 [==============================] - 9s 103ms/step - loss: 1.3863 - accuracy: 0.2582 - val_loss: 1.3869 - val_accuracy: 0.2367\n",
            "Epoch 9/20\n",
            "88/88 [==============================] - 9s 106ms/step - loss: 1.3863 - accuracy: 0.2582 - val_loss: 1.3868 - val_accuracy: 0.2367\n",
            "Epoch 10/20\n",
            "88/88 [==============================] - 9s 102ms/step - loss: 1.3863 - accuracy: 0.2582 - val_loss: 1.3871 - val_accuracy: 0.2367\n",
            "Epoch 11/20\n",
            "88/88 [==============================] - 9s 103ms/step - loss: 1.3863 - accuracy: 0.2582 - val_loss: 1.3870 - val_accuracy: 0.2367\n",
            "Epoch 12/20\n",
            "88/88 [==============================] - 9s 103ms/step - loss: 1.3863 - accuracy: 0.2582 - val_loss: 1.3869 - val_accuracy: 0.2367\n",
            "Epoch 13/20\n",
            "88/88 [==============================] - 9s 103ms/step - loss: 1.3863 - accuracy: 0.2582 - val_loss: 1.3869 - val_accuracy: 0.2367\n",
            "Epoch 14/20\n",
            "88/88 [==============================] - 9s 103ms/step - loss: 1.3863 - accuracy: 0.2582 - val_loss: 1.3871 - val_accuracy: 0.2367\n",
            "Epoch 15/20\n",
            "88/88 [==============================] - 9s 103ms/step - loss: 1.3863 - accuracy: 0.2582 - val_loss: 1.3874 - val_accuracy: 0.2367\n",
            "Epoch 16/20\n",
            "88/88 [==============================] - 9s 103ms/step - loss: 1.3862 - accuracy: 0.2582 - val_loss: 1.3872 - val_accuracy: 0.2367\n",
            "Epoch 17/20\n",
            "88/88 [==============================] - 9s 103ms/step - loss: 1.3863 - accuracy: 0.2582 - val_loss: 1.3872 - val_accuracy: 0.2367\n",
            "Epoch 18/20\n",
            "88/88 [==============================] - 9s 104ms/step - loss: 1.3863 - accuracy: 0.2582 - val_loss: 1.3872 - val_accuracy: 0.2367\n",
            "Epoch 19/20\n",
            "88/88 [==============================] - 9s 103ms/step - loss: 1.3863 - accuracy: 0.2582 - val_loss: 1.3872 - val_accuracy: 0.2367\n",
            "Epoch 20/20\n",
            "88/88 [==============================] - 9s 103ms/step - loss: 1.3863 - accuracy: 0.2582 - val_loss: 1.3873 - val_accuracy: 0.2367\n",
            "2-conv-16-nodes-4-dense-1649656686\n",
            "Epoch 1/20\n",
            "88/88 [==============================] - 16s 171ms/step - loss: 1.3882 - accuracy: 0.2543 - val_loss: 1.3865 - val_accuracy: 0.2367\n",
            "Epoch 2/20\n",
            "88/88 [==============================] - 14s 159ms/step - loss: 1.3860 - accuracy: 0.2679 - val_loss: 1.3779 - val_accuracy: 0.2750\n",
            "Epoch 3/20\n",
            "88/88 [==============================] - 14s 164ms/step - loss: 1.3215 - accuracy: 0.4079 - val_loss: 1.1962 - val_accuracy: 0.3517\n",
            "Epoch 4/20\n",
            "88/88 [==============================] - 15s 166ms/step - loss: 1.0568 - accuracy: 0.5286 - val_loss: 0.8929 - val_accuracy: 0.5967\n",
            "Epoch 5/20\n",
            "88/88 [==============================] - 15s 166ms/step - loss: 0.8026 - accuracy: 0.6707 - val_loss: 0.6674 - val_accuracy: 0.7567\n",
            "Epoch 6/20\n",
            "88/88 [==============================] - 14s 160ms/step - loss: 0.5995 - accuracy: 0.7921 - val_loss: 0.6065 - val_accuracy: 0.8717\n",
            "Epoch 7/20\n",
            "88/88 [==============================] - 14s 160ms/step - loss: 0.4436 - accuracy: 0.8782 - val_loss: 0.5858 - val_accuracy: 0.7650\n",
            "Epoch 8/20\n",
            "88/88 [==============================] - 15s 168ms/step - loss: 0.3695 - accuracy: 0.8879 - val_loss: 0.5278 - val_accuracy: 0.8067\n",
            "Epoch 9/20\n",
            "88/88 [==============================] - 14s 159ms/step - loss: 0.3355 - accuracy: 0.8982 - val_loss: 0.3968 - val_accuracy: 0.8833\n",
            "Epoch 10/20\n",
            "88/88 [==============================] - 14s 163ms/step - loss: 0.3119 - accuracy: 0.8950 - val_loss: 0.3215 - val_accuracy: 0.8867\n",
            "Epoch 11/20\n",
            "88/88 [==============================] - 14s 163ms/step - loss: 0.2889 - accuracy: 0.8946 - val_loss: 0.2972 - val_accuracy: 0.8867\n",
            "Epoch 12/20\n",
            "88/88 [==============================] - 14s 163ms/step - loss: 0.2795 - accuracy: 0.8982 - val_loss: 0.2914 - val_accuracy: 0.8867\n",
            "Epoch 13/20\n",
            "88/88 [==============================] - 14s 157ms/step - loss: 0.2616 - accuracy: 0.8975 - val_loss: 0.5962 - val_accuracy: 0.7717\n",
            "Epoch 14/20\n",
            "88/88 [==============================] - 14s 157ms/step - loss: 0.2661 - accuracy: 0.8939 - val_loss: 0.2729 - val_accuracy: 0.8867\n",
            "Epoch 15/20\n",
            "88/88 [==============================] - 14s 158ms/step - loss: 0.2499 - accuracy: 0.8957 - val_loss: 0.2710 - val_accuracy: 0.8867\n",
            "Epoch 16/20\n",
            "88/88 [==============================] - 14s 163ms/step - loss: 0.2469 - accuracy: 0.8989 - val_loss: 0.2618 - val_accuracy: 0.8867\n",
            "Epoch 17/20\n",
            "88/88 [==============================] - 14s 163ms/step - loss: 0.2406 - accuracy: 0.8946 - val_loss: 0.2789 - val_accuracy: 0.8867\n",
            "Epoch 18/20\n",
            "88/88 [==============================] - 14s 163ms/step - loss: 0.2336 - accuracy: 0.8989 - val_loss: 0.2550 - val_accuracy: 0.8867\n",
            "Epoch 19/20\n",
            "88/88 [==============================] - 14s 164ms/step - loss: 0.2262 - accuracy: 0.8939 - val_loss: 0.2850 - val_accuracy: 0.8867\n",
            "Epoch 20/20\n",
            "88/88 [==============================] - 14s 165ms/step - loss: 0.2291 - accuracy: 0.9014 - val_loss: 0.3423 - val_accuracy: 0.8750\n",
            "3-conv-16-nodes-4-dense-1649656973\n",
            "Epoch 1/20\n",
            "88/88 [==============================] - 17s 178ms/step - loss: 1.3860 - accuracy: 0.2593 - val_loss: 1.3850 - val_accuracy: 0.2367\n",
            "Epoch 2/20\n",
            "88/88 [==============================] - 16s 176ms/step - loss: 1.3522 - accuracy: 0.3357 - val_loss: 1.2622 - val_accuracy: 0.4433\n",
            "Epoch 3/20\n",
            "88/88 [==============================] - 15s 171ms/step - loss: 1.0159 - accuracy: 0.6132 - val_loss: 0.8589 - val_accuracy: 0.5150\n",
            "Epoch 4/20\n",
            "88/88 [==============================] - 16s 179ms/step - loss: 0.6191 - accuracy: 0.7904 - val_loss: 0.4653 - val_accuracy: 0.8767\n",
            "Epoch 5/20\n",
            "88/88 [==============================] - 15s 172ms/step - loss: 0.4152 - accuracy: 0.8786 - val_loss: 0.3534 - val_accuracy: 0.8833\n",
            "Epoch 6/20\n",
            "88/88 [==============================] - 15s 173ms/step - loss: 0.3413 - accuracy: 0.8946 - val_loss: 0.4141 - val_accuracy: 0.7567\n",
            "Epoch 7/20\n",
            "88/88 [==============================] - 15s 173ms/step - loss: 0.3107 - accuracy: 0.8950 - val_loss: 0.3082 - val_accuracy: 0.8867\n",
            "Epoch 8/20\n",
            "88/88 [==============================] - 15s 172ms/step - loss: 0.2952 - accuracy: 0.8954 - val_loss: 0.5918 - val_accuracy: 0.7117\n",
            "Epoch 9/20\n",
            "88/88 [==============================] - 16s 177ms/step - loss: 0.2896 - accuracy: 0.8964 - val_loss: 0.3048 - val_accuracy: 0.8767\n",
            "Epoch 10/20\n",
            "88/88 [==============================] - 15s 171ms/step - loss: 0.2868 - accuracy: 0.8986 - val_loss: 0.2921 - val_accuracy: 0.8850\n",
            "Epoch 11/20\n",
            "88/88 [==============================] - 15s 176ms/step - loss: 0.2722 - accuracy: 0.8968 - val_loss: 0.3053 - val_accuracy: 0.8817\n",
            "Epoch 12/20\n",
            "88/88 [==============================] - 16s 177ms/step - loss: 0.2718 - accuracy: 0.9000 - val_loss: 0.2869 - val_accuracy: 0.8783\n",
            "Epoch 13/20\n",
            "88/88 [==============================] - 15s 171ms/step - loss: 0.2601 - accuracy: 0.8975 - val_loss: 0.3464 - val_accuracy: 0.8717\n",
            "Epoch 14/20\n",
            "88/88 [==============================] - 16s 176ms/step - loss: 0.2549 - accuracy: 0.8996 - val_loss: 0.2963 - val_accuracy: 0.8733\n",
            "Epoch 15/20\n",
            "88/88 [==============================] - 15s 171ms/step - loss: 0.2522 - accuracy: 0.9007 - val_loss: 0.3110 - val_accuracy: 0.8650\n",
            "Epoch 16/20\n",
            "88/88 [==============================] - 15s 176ms/step - loss: 0.2474 - accuracy: 0.9000 - val_loss: 0.3149 - val_accuracy: 0.8450\n",
            "Epoch 17/20\n",
            "88/88 [==============================] - 15s 171ms/step - loss: 0.2407 - accuracy: 0.9018 - val_loss: 0.2872 - val_accuracy: 0.8467\n",
            "Epoch 18/20\n",
            "88/88 [==============================] - 15s 176ms/step - loss: 0.2326 - accuracy: 0.9029 - val_loss: 0.2760 - val_accuracy: 0.8867\n",
            "Epoch 19/20\n",
            "88/88 [==============================] - 15s 170ms/step - loss: 0.2319 - accuracy: 0.8982 - val_loss: 0.2631 - val_accuracy: 0.8867\n",
            "Epoch 20/20\n",
            "88/88 [==============================] - 15s 175ms/step - loss: 0.2238 - accuracy: 0.9071 - val_loss: 0.2612 - val_accuracy: 0.8850\n",
            "1-conv-32-nodes-4-dense-1649657296\n",
            "Epoch 1/20\n",
            "88/88 [==============================] - 16s 168ms/step - loss: 1.4280 - accuracy: 0.2421 - val_loss: 1.3867 - val_accuracy: 0.2350\n",
            "Epoch 2/20\n",
            "88/88 [==============================] - 15s 165ms/step - loss: 1.3864 - accuracy: 0.2525 - val_loss: 1.3870 - val_accuracy: 0.2367\n",
            "Epoch 3/20\n",
            "88/88 [==============================] - 15s 165ms/step - loss: 1.3863 - accuracy: 0.2564 - val_loss: 1.3868 - val_accuracy: 0.2367\n",
            "Epoch 4/20\n",
            "88/88 [==============================] - 14s 159ms/step - loss: 1.3863 - accuracy: 0.2582 - val_loss: 1.3869 - val_accuracy: 0.2367\n",
            "Epoch 5/20\n",
            "88/88 [==============================] - 14s 160ms/step - loss: 1.3863 - accuracy: 0.2582 - val_loss: 1.3869 - val_accuracy: 0.2367\n",
            "Epoch 6/20\n",
            "88/88 [==============================] - 15s 166ms/step - loss: 1.3862 - accuracy: 0.2582 - val_loss: 1.3868 - val_accuracy: 0.2367\n",
            "Epoch 7/20\n",
            "88/88 [==============================] - 15s 167ms/step - loss: 1.3862 - accuracy: 0.2582 - val_loss: 1.3869 - val_accuracy: 0.2367\n",
            "Epoch 8/20\n",
            "88/88 [==============================] - 15s 166ms/step - loss: 1.3863 - accuracy: 0.2582 - val_loss: 1.3868 - val_accuracy: 0.2367\n",
            "Epoch 9/20\n",
            "88/88 [==============================] - 15s 166ms/step - loss: 1.3862 - accuracy: 0.2582 - val_loss: 1.3868 - val_accuracy: 0.2367\n",
            "Epoch 10/20\n",
            "88/88 [==============================] - 15s 166ms/step - loss: 1.3862 - accuracy: 0.2582 - val_loss: 1.3869 - val_accuracy: 0.2367\n",
            "Epoch 11/20\n",
            "88/88 [==============================] - 15s 167ms/step - loss: 1.3862 - accuracy: 0.2582 - val_loss: 1.3869 - val_accuracy: 0.2367\n",
            "Epoch 12/20\n",
            "88/88 [==============================] - 15s 166ms/step - loss: 1.3862 - accuracy: 0.2582 - val_loss: 1.3870 - val_accuracy: 0.2367\n",
            "Epoch 13/20\n",
            "88/88 [==============================] - 15s 167ms/step - loss: 1.3862 - accuracy: 0.2582 - val_loss: 1.3870 - val_accuracy: 0.2367\n",
            "Epoch 14/20\n",
            "88/88 [==============================] - 15s 166ms/step - loss: 1.3862 - accuracy: 0.2582 - val_loss: 1.3870 - val_accuracy: 0.2367\n",
            "Epoch 15/20\n",
            "88/88 [==============================] - 15s 168ms/step - loss: 1.3862 - accuracy: 0.2582 - val_loss: 1.3871 - val_accuracy: 0.2367\n",
            "Epoch 16/20\n",
            "88/88 [==============================] - 14s 160ms/step - loss: 1.3862 - accuracy: 0.2582 - val_loss: 1.3870 - val_accuracy: 0.2367\n",
            "Epoch 17/20\n",
            "88/88 [==============================] - 15s 167ms/step - loss: 1.3862 - accuracy: 0.2582 - val_loss: 1.3870 - val_accuracy: 0.2367\n",
            "Epoch 18/20\n",
            "88/88 [==============================] - 15s 168ms/step - loss: 1.3862 - accuracy: 0.2582 - val_loss: 1.3870 - val_accuracy: 0.2367\n",
            "Epoch 19/20\n",
            "88/88 [==============================] - 15s 167ms/step - loss: 1.3862 - accuracy: 0.2582 - val_loss: 1.3870 - val_accuracy: 0.2367\n",
            "Epoch 20/20\n",
            "88/88 [==============================] - 14s 161ms/step - loss: 1.3862 - accuracy: 0.2582 - val_loss: 1.3870 - val_accuracy: 0.2367\n",
            "2-conv-32-nodes-4-dense-1649657588\n",
            "Epoch 1/20\n",
            "88/88 [==============================] - 25s 278ms/step - loss: 1.3907 - accuracy: 0.2454 - val_loss: 1.3867 - val_accuracy: 0.2367\n",
            "Epoch 2/20\n",
            "88/88 [==============================] - 24s 277ms/step - loss: 1.3872 - accuracy: 0.2586 - val_loss: 1.3882 - val_accuracy: 0.2367\n",
            "Epoch 3/20\n",
            "88/88 [==============================] - 24s 277ms/step - loss: 1.3599 - accuracy: 0.3300 - val_loss: 1.2516 - val_accuracy: 0.4650\n",
            "Epoch 4/20\n",
            "88/88 [==============================] - 24s 278ms/step - loss: 1.0192 - accuracy: 0.6086 - val_loss: 0.7736 - val_accuracy: 0.6917\n",
            "Epoch 5/20\n",
            "88/88 [==============================] - 24s 277ms/step - loss: 0.4782 - accuracy: 0.8586 - val_loss: 0.3883 - val_accuracy: 0.8783\n",
            "Epoch 6/20\n",
            "88/88 [==============================] - 24s 278ms/step - loss: 0.3150 - accuracy: 0.8943 - val_loss: 0.3135 - val_accuracy: 0.8867\n",
            "Epoch 7/20\n",
            "88/88 [==============================] - 24s 276ms/step - loss: 0.2689 - accuracy: 0.9004 - val_loss: 0.2782 - val_accuracy: 0.8867\n",
            "Epoch 8/20\n",
            "88/88 [==============================] - 24s 276ms/step - loss: 0.2658 - accuracy: 0.8950 - val_loss: 0.3981 - val_accuracy: 0.8583\n",
            "Epoch 9/20\n",
            "88/88 [==============================] - 24s 276ms/step - loss: 0.2483 - accuracy: 0.9029 - val_loss: 0.2846 - val_accuracy: 0.8833\n",
            "Epoch 10/20\n",
            "88/88 [==============================] - 24s 274ms/step - loss: 0.2391 - accuracy: 0.9011 - val_loss: 0.2784 - val_accuracy: 0.8867\n",
            "Epoch 11/20\n",
            "88/88 [==============================] - 24s 275ms/step - loss: 0.2337 - accuracy: 0.8982 - val_loss: 0.2535 - val_accuracy: 0.8867\n",
            "Epoch 12/20\n",
            "88/88 [==============================] - 24s 275ms/step - loss: 0.2299 - accuracy: 0.9018 - val_loss: 0.2598 - val_accuracy: 0.8867\n",
            "Epoch 13/20\n",
            "88/88 [==============================] - 24s 275ms/step - loss: 0.2256 - accuracy: 0.9032 - val_loss: 0.2441 - val_accuracy: 0.8867\n",
            "Epoch 14/20\n",
            "88/88 [==============================] - 24s 275ms/step - loss: 0.2211 - accuracy: 0.9021 - val_loss: 0.2528 - val_accuracy: 0.8867\n",
            "Epoch 15/20\n",
            "88/88 [==============================] - 24s 273ms/step - loss: 0.2186 - accuracy: 0.9036 - val_loss: 0.2436 - val_accuracy: 0.8867\n",
            "Epoch 16/20\n",
            "88/88 [==============================] - 24s 273ms/step - loss: 0.2183 - accuracy: 0.9029 - val_loss: 0.2570 - val_accuracy: 0.8867\n",
            "Epoch 17/20\n",
            "88/88 [==============================] - 24s 275ms/step - loss: 0.2162 - accuracy: 0.9021 - val_loss: 0.2474 - val_accuracy: 0.8867\n",
            "Epoch 18/20\n",
            "88/88 [==============================] - 24s 274ms/step - loss: 0.2144 - accuracy: 0.9039 - val_loss: 0.2485 - val_accuracy: 0.8867\n",
            "Epoch 19/20\n",
            "88/88 [==============================] - 24s 273ms/step - loss: 0.2083 - accuracy: 0.9050 - val_loss: 0.3740 - val_accuracy: 0.8717\n",
            "Epoch 20/20\n",
            "88/88 [==============================] - 24s 275ms/step - loss: 0.2063 - accuracy: 0.9043 - val_loss: 0.2802 - val_accuracy: 0.8783\n",
            "3-conv-32-nodes-4-dense-1649658091\n",
            "Epoch 1/20\n",
            "88/88 [==============================] - 28s 306ms/step - loss: 1.3878 - accuracy: 0.2439 - val_loss: 1.3866 - val_accuracy: 0.2367\n",
            "Epoch 2/20\n",
            "88/88 [==============================] - 27s 302ms/step - loss: 1.3870 - accuracy: 0.2607 - val_loss: 1.3871 - val_accuracy: 0.2367\n",
            "Epoch 3/20\n",
            "88/88 [==============================] - 26s 300ms/step - loss: 1.3864 - accuracy: 0.2636 - val_loss: 1.3875 - val_accuracy: 0.2367\n",
            "Epoch 4/20\n",
            "88/88 [==============================] - 27s 303ms/step - loss: 1.3565 - accuracy: 0.3450 - val_loss: 1.3638 - val_accuracy: 0.2817\n",
            "Epoch 5/20\n",
            "88/88 [==============================] - 27s 304ms/step - loss: 1.0833 - accuracy: 0.5179 - val_loss: 0.8415 - val_accuracy: 0.7233\n",
            "Epoch 6/20\n",
            "88/88 [==============================] - 27s 306ms/step - loss: 0.7384 - accuracy: 0.7354 - val_loss: 0.8239 - val_accuracy: 0.5083\n",
            "Epoch 7/20\n",
            "88/88 [==============================] - 27s 306ms/step - loss: 0.4960 - accuracy: 0.8471 - val_loss: 0.4183 - val_accuracy: 0.8867\n",
            "Epoch 8/20\n",
            "88/88 [==============================] - 27s 305ms/step - loss: 0.3906 - accuracy: 0.8704 - val_loss: 0.4004 - val_accuracy: 0.8800\n",
            "Epoch 9/20\n",
            "88/88 [==============================] - 27s 305ms/step - loss: 0.3393 - accuracy: 0.8900 - val_loss: 0.3359 - val_accuracy: 0.8833\n",
            "Epoch 10/20\n",
            "88/88 [==============================] - 27s 304ms/step - loss: 0.3038 - accuracy: 0.8961 - val_loss: 0.3209 - val_accuracy: 0.8867\n",
            "Epoch 11/20\n",
            "88/88 [==============================] - 27s 303ms/step - loss: 0.2872 - accuracy: 0.8921 - val_loss: 0.3071 - val_accuracy: 0.8867\n",
            "Epoch 12/20\n",
            "88/88 [==============================] - 27s 303ms/step - loss: 0.2662 - accuracy: 0.8979 - val_loss: 0.2777 - val_accuracy: 0.8867\n",
            "Epoch 13/20\n",
            "88/88 [==============================] - 27s 302ms/step - loss: 0.2458 - accuracy: 0.9018 - val_loss: 0.2580 - val_accuracy: 0.8867\n",
            "Epoch 14/20\n",
            "88/88 [==============================] - 27s 303ms/step - loss: 0.2344 - accuracy: 0.9043 - val_loss: 0.2656 - val_accuracy: 0.8867\n",
            "Epoch 15/20\n",
            "88/88 [==============================] - 27s 302ms/step - loss: 0.2350 - accuracy: 0.9011 - val_loss: 0.2484 - val_accuracy: 0.8867\n",
            "Epoch 16/20\n",
            "88/88 [==============================] - 27s 302ms/step - loss: 0.2242 - accuracy: 0.9046 - val_loss: 0.2692 - val_accuracy: 0.8867\n",
            "Epoch 17/20\n",
            "88/88 [==============================] - 28s 316ms/step - loss: 0.2214 - accuracy: 0.9039 - val_loss: 0.2389 - val_accuracy: 0.8867\n",
            "Epoch 18/20\n",
            "88/88 [==============================] - 27s 302ms/step - loss: 0.2172 - accuracy: 0.9043 - val_loss: 0.2596 - val_accuracy: 0.8867\n",
            "Epoch 19/20\n",
            "88/88 [==============================] - 26s 301ms/step - loss: 0.2245 - accuracy: 0.9032 - val_loss: 0.2529 - val_accuracy: 0.8867\n",
            "Epoch 20/20\n",
            "88/88 [==============================] - 26s 300ms/step - loss: 0.2162 - accuracy: 0.9054 - val_loss: 0.2573 - val_accuracy: 0.8867\n",
            "1-conv-64-nodes-4-dense-1649658654\n",
            "Epoch 1/20\n",
            "88/88 [==============================] - 28s 307ms/step - loss: 1.8774 - accuracy: 0.2746 - val_loss: 1.3892 - val_accuracy: 0.2367\n",
            "Epoch 2/20\n",
            "88/88 [==============================] - 26s 300ms/step - loss: 1.0279 - accuracy: 0.5361 - val_loss: 0.3747 - val_accuracy: 0.8833\n",
            "Epoch 3/20\n",
            "88/88 [==============================] - 27s 303ms/step - loss: 0.3091 - accuracy: 0.8939 - val_loss: 0.3922 - val_accuracy: 0.8783\n",
            "Epoch 4/20\n",
            "88/88 [==============================] - 26s 301ms/step - loss: 0.2519 - accuracy: 0.8954 - val_loss: 0.6237 - val_accuracy: 0.7167\n",
            "Epoch 5/20\n",
            "88/88 [==============================] - 26s 299ms/step - loss: 0.2397 - accuracy: 0.8986 - val_loss: 0.2692 - val_accuracy: 0.8867\n",
            "Epoch 6/20\n",
            "88/88 [==============================] - 26s 298ms/step - loss: 0.2325 - accuracy: 0.9025 - val_loss: 0.2655 - val_accuracy: 0.8850\n",
            "Epoch 7/20\n",
            "88/88 [==============================] - 26s 298ms/step - loss: 0.2272 - accuracy: 0.9021 - val_loss: 0.2388 - val_accuracy: 0.8867\n",
            "Epoch 8/20\n",
            "88/88 [==============================] - 26s 298ms/step - loss: 0.2208 - accuracy: 0.9054 - val_loss: 0.2905 - val_accuracy: 0.8867\n",
            "Epoch 9/20\n",
            "88/88 [==============================] - 26s 295ms/step - loss: 0.2219 - accuracy: 0.9036 - val_loss: 0.2653 - val_accuracy: 0.8867\n",
            "Epoch 10/20\n",
            "88/88 [==============================] - 26s 296ms/step - loss: 0.2213 - accuracy: 0.9007 - val_loss: 0.2562 - val_accuracy: 0.8867\n",
            "Epoch 11/20\n",
            "88/88 [==============================] - 26s 296ms/step - loss: 0.2119 - accuracy: 0.9057 - val_loss: 0.2842 - val_accuracy: 0.8867\n",
            "Epoch 12/20\n",
            "88/88 [==============================] - 26s 299ms/step - loss: 0.2108 - accuracy: 0.9029 - val_loss: 0.2638 - val_accuracy: 0.8867\n",
            "Epoch 13/20\n",
            "88/88 [==============================] - 26s 297ms/step - loss: 0.2028 - accuracy: 0.9064 - val_loss: 0.8404 - val_accuracy: 0.7633\n",
            "Epoch 14/20\n",
            "88/88 [==============================] - 26s 299ms/step - loss: 0.2027 - accuracy: 0.9061 - val_loss: 0.2558 - val_accuracy: 0.8833\n",
            "Epoch 15/20\n",
            "88/88 [==============================] - 26s 298ms/step - loss: 0.1954 - accuracy: 0.9075 - val_loss: 0.3095 - val_accuracy: 0.8867\n",
            "Epoch 16/20\n",
            "88/88 [==============================] - 26s 299ms/step - loss: 0.1885 - accuracy: 0.9104 - val_loss: 0.3218 - val_accuracy: 0.8867\n",
            "Epoch 17/20\n",
            "88/88 [==============================] - 26s 295ms/step - loss: 0.1777 - accuracy: 0.9150 - val_loss: 0.2789 - val_accuracy: 0.8383\n",
            "Epoch 18/20\n",
            "88/88 [==============================] - 26s 297ms/step - loss: 0.1653 - accuracy: 0.9161 - val_loss: 0.2709 - val_accuracy: 0.8850\n",
            "Epoch 19/20\n",
            "88/88 [==============================] - 26s 294ms/step - loss: 0.1669 - accuracy: 0.9193 - val_loss: 0.3374 - val_accuracy: 0.8867\n",
            "Epoch 20/20\n",
            "88/88 [==============================] - 26s 296ms/step - loss: 0.1538 - accuracy: 0.9243 - val_loss: 0.4758 - val_accuracy: 0.8867\n",
            "2-conv-64-nodes-4-dense-1649659217\n",
            "Epoch 1/20\n",
            "88/88 [==============================] - 54s 601ms/step - loss: 1.3929 - accuracy: 0.2468 - val_loss: 1.3867 - val_accuracy: 0.2350\n",
            "Epoch 2/20\n",
            "88/88 [==============================] - 52s 596ms/step - loss: 1.3890 - accuracy: 0.2389 - val_loss: 1.3869 - val_accuracy: 0.2467\n",
            "Epoch 3/20\n",
            "88/88 [==============================] - 52s 593ms/step - loss: 1.3888 - accuracy: 0.2546 - val_loss: 1.3872 - val_accuracy: 0.2367\n",
            "Epoch 4/20\n",
            "88/88 [==============================] - 52s 591ms/step - loss: 1.3886 - accuracy: 0.2607 - val_loss: 1.3824 - val_accuracy: 0.2367\n",
            "Epoch 5/20\n",
            "88/88 [==============================] - 52s 593ms/step - loss: 1.2032 - accuracy: 0.4429 - val_loss: 0.9750 - val_accuracy: 0.4717\n",
            "Epoch 6/20\n",
            "88/88 [==============================] - 52s 593ms/step - loss: 0.4791 - accuracy: 0.8400 - val_loss: 0.2946 - val_accuracy: 0.8867\n",
            "Epoch 7/20\n",
            "88/88 [==============================] - 52s 593ms/step - loss: 0.2874 - accuracy: 0.8843 - val_loss: 0.2894 - val_accuracy: 0.8867\n",
            "Epoch 8/20\n",
            "88/88 [==============================] - 52s 590ms/step - loss: 0.2503 - accuracy: 0.8982 - val_loss: 0.2553 - val_accuracy: 0.8867\n",
            "Epoch 9/20\n",
            "88/88 [==============================] - 52s 589ms/step - loss: 0.2348 - accuracy: 0.9014 - val_loss: 0.2586 - val_accuracy: 0.8867\n",
            "Epoch 10/20\n",
            "88/88 [==============================] - 51s 584ms/step - loss: 0.2322 - accuracy: 0.9014 - val_loss: 0.2480 - val_accuracy: 0.8867\n",
            "Epoch 11/20\n",
            "88/88 [==============================] - 52s 587ms/step - loss: 0.2308 - accuracy: 0.9046 - val_loss: 0.2629 - val_accuracy: 0.8867\n",
            "Epoch 12/20\n",
            "88/88 [==============================] - 51s 585ms/step - loss: 0.2269 - accuracy: 0.9050 - val_loss: 0.2428 - val_accuracy: 0.8867\n",
            "Epoch 13/20\n",
            "88/88 [==============================] - 51s 582ms/step - loss: 0.2200 - accuracy: 0.9029 - val_loss: 0.2405 - val_accuracy: 0.8867\n",
            "Epoch 14/20\n",
            "88/88 [==============================] - 51s 581ms/step - loss: 0.2195 - accuracy: 0.9050 - val_loss: 0.2585 - val_accuracy: 0.8867\n",
            "Epoch 15/20\n",
            "88/88 [==============================] - 51s 581ms/step - loss: 0.2197 - accuracy: 0.9054 - val_loss: 0.2469 - val_accuracy: 0.8783\n",
            "Epoch 16/20\n",
            "88/88 [==============================] - 51s 580ms/step - loss: 0.2166 - accuracy: 0.9043 - val_loss: 0.2437 - val_accuracy: 0.8867\n",
            "Epoch 17/20\n",
            "88/88 [==============================] - 51s 580ms/step - loss: 0.2161 - accuracy: 0.9050 - val_loss: 0.2540 - val_accuracy: 0.8867\n",
            "Epoch 18/20\n",
            "88/88 [==============================] - 51s 585ms/step - loss: 0.2088 - accuracy: 0.9061 - val_loss: 0.2475 - val_accuracy: 0.8867\n",
            "Epoch 19/20\n",
            "88/88 [==============================] - 51s 583ms/step - loss: 0.2112 - accuracy: 0.9046 - val_loss: 0.2683 - val_accuracy: 0.8867\n",
            "Epoch 20/20\n",
            "88/88 [==============================] - 51s 583ms/step - loss: 0.2106 - accuracy: 0.9061 - val_loss: 0.2530 - val_accuracy: 0.8867\n",
            "3-conv-64-nodes-4-dense-1649660260\n",
            "Epoch 1/20\n",
            "88/88 [==============================] - 61s 688ms/step - loss: 1.3939 - accuracy: 0.2546 - val_loss: 1.3868 - val_accuracy: 0.2367\n",
            "Epoch 2/20\n",
            "88/88 [==============================] - 58s 654ms/step - loss: 1.3878 - accuracy: 0.2450 - val_loss: 1.3869 - val_accuracy: 0.2367\n",
            "Epoch 3/20\n",
            "88/88 [==============================] - 60s 683ms/step - loss: 1.3872 - accuracy: 0.2511 - val_loss: 1.3868 - val_accuracy: 0.2367\n",
            "Epoch 4/20\n",
            "88/88 [==============================] - 61s 697ms/step - loss: 1.3869 - accuracy: 0.2571 - val_loss: 1.3887 - val_accuracy: 0.2367\n",
            "Epoch 5/20\n",
            "88/88 [==============================] - 60s 685ms/step - loss: 1.3866 - accuracy: 0.2461 - val_loss: 1.3867 - val_accuracy: 0.2367\n",
            "Epoch 6/20\n",
            "88/88 [==============================] - 61s 688ms/step - loss: 1.3867 - accuracy: 0.2550 - val_loss: 1.3867 - val_accuracy: 0.2367\n",
            "Epoch 7/20\n",
            "88/88 [==============================] - 60s 682ms/step - loss: 1.3864 - accuracy: 0.2571 - val_loss: 1.3867 - val_accuracy: 0.2367\n",
            "Epoch 8/20\n",
            "88/88 [==============================] - 60s 677ms/step - loss: 1.3871 - accuracy: 0.2546 - val_loss: 1.3866 - val_accuracy: 0.2367\n",
            "Epoch 9/20\n",
            "88/88 [==============================] - 60s 685ms/step - loss: 1.3867 - accuracy: 0.2604 - val_loss: 1.3872 - val_accuracy: 0.2367\n",
            "Epoch 10/20\n",
            "88/88 [==============================] - 60s 681ms/step - loss: 1.3838 - accuracy: 0.2629 - val_loss: 1.3313 - val_accuracy: 0.4367\n",
            "Epoch 11/20\n",
            "88/88 [==============================] - 63s 717ms/step - loss: 0.9749 - accuracy: 0.5496 - val_loss: 0.5935 - val_accuracy: 0.8567\n",
            "Epoch 12/20\n",
            "88/88 [==============================] - 60s 681ms/step - loss: 0.4890 - accuracy: 0.8246 - val_loss: 0.4455 - val_accuracy: 0.8083\n",
            "Epoch 13/20\n",
            "88/88 [==============================] - 60s 678ms/step - loss: 0.3226 - accuracy: 0.8861 - val_loss: 0.3319 - val_accuracy: 0.8833\n",
            "Epoch 14/20\n",
            "88/88 [==============================] - 60s 686ms/step - loss: 0.2756 - accuracy: 0.8979 - val_loss: 0.2880 - val_accuracy: 0.8867\n",
            "Epoch 15/20\n",
            "88/88 [==============================] - 60s 687ms/step - loss: 0.2488 - accuracy: 0.8996 - val_loss: 0.2589 - val_accuracy: 0.8867\n",
            "Epoch 16/20\n",
            "88/88 [==============================] - 60s 677ms/step - loss: 0.2387 - accuracy: 0.9021 - val_loss: 0.2542 - val_accuracy: 0.8867\n",
            "Epoch 17/20\n",
            "88/88 [==============================] - 59s 676ms/step - loss: 0.2302 - accuracy: 0.9036 - val_loss: 0.2498 - val_accuracy: 0.8867\n",
            "Epoch 18/20\n",
            "88/88 [==============================] - 57s 650ms/step - loss: 0.2280 - accuracy: 0.9021 - val_loss: 0.2490 - val_accuracy: 0.8867\n",
            "Epoch 19/20\n",
            "88/88 [==============================] - 58s 654ms/step - loss: 0.2225 - accuracy: 0.9014 - val_loss: 0.2465 - val_accuracy: 0.8867\n",
            "Epoch 20/20\n",
            "88/88 [==============================] - 57s 651ms/step - loss: 0.2226 - accuracy: 0.9032 - val_loss: 0.2436 - val_accuracy: 0.8867\n",
            "1-conv-128-nodes-4-dense-1649661483\n",
            "Epoch 1/20\n",
            "88/88 [==============================] - 67s 752ms/step - loss: 2.0018 - accuracy: 0.2629 - val_loss: 1.4296 - val_accuracy: 0.2817\n",
            "Epoch 2/20\n",
            "88/88 [==============================] - 64s 730ms/step - loss: 0.8303 - accuracy: 0.6646 - val_loss: 0.2971 - val_accuracy: 0.8867\n",
            "Epoch 3/20\n",
            "88/88 [==============================] - 64s 728ms/step - loss: 0.2820 - accuracy: 0.8907 - val_loss: 0.2755 - val_accuracy: 0.8867\n",
            "Epoch 4/20\n",
            "88/88 [==============================] - 64s 724ms/step - loss: 0.2461 - accuracy: 0.9011 - val_loss: 0.2953 - val_accuracy: 0.8867\n",
            "Epoch 5/20\n",
            "88/88 [==============================] - 63s 721ms/step - loss: 0.2386 - accuracy: 0.9025 - val_loss: 0.2491 - val_accuracy: 0.8867\n",
            "Epoch 6/20\n",
            "88/88 [==============================] - 64s 723ms/step - loss: 0.2326 - accuracy: 0.9046 - val_loss: 0.2536 - val_accuracy: 0.8867\n",
            "Epoch 7/20\n",
            "88/88 [==============================] - 63s 719ms/step - loss: 0.2259 - accuracy: 0.9039 - val_loss: 0.2685 - val_accuracy: 0.8833\n",
            "Epoch 8/20\n",
            "88/88 [==============================] - 64s 727ms/step - loss: 0.2206 - accuracy: 0.9021 - val_loss: 0.2399 - val_accuracy: 0.8867\n",
            "Epoch 9/20\n",
            "88/88 [==============================] - 64s 730ms/step - loss: 0.2225 - accuracy: 0.9054 - val_loss: 0.2574 - val_accuracy: 0.8867\n",
            "Epoch 10/20\n",
            "88/88 [==============================] - 72s 816ms/step - loss: 0.2831 - accuracy: 0.8986 - val_loss: 0.2508 - val_accuracy: 0.8867\n",
            "Epoch 11/20\n",
            "88/88 [==============================] - 72s 816ms/step - loss: 0.2228 - accuracy: 0.9032 - val_loss: 0.2432 - val_accuracy: 0.8867\n",
            "Epoch 12/20\n",
            "88/88 [==============================] - 72s 823ms/step - loss: 0.2282 - accuracy: 0.9029 - val_loss: 0.2654 - val_accuracy: 0.8867\n",
            "Epoch 13/20\n",
            "88/88 [==============================] - 70s 792ms/step - loss: 0.2147 - accuracy: 0.9004 - val_loss: 0.2707 - val_accuracy: 0.8867\n",
            "Epoch 14/20\n",
            "88/88 [==============================] - 73s 828ms/step - loss: 0.2111 - accuracy: 0.9057 - val_loss: 0.2559 - val_accuracy: 0.8867\n",
            "Epoch 15/20\n",
            "88/88 [==============================] - 69s 789ms/step - loss: 0.2172 - accuracy: 0.9043 - val_loss: 0.2410 - val_accuracy: 0.8867\n",
            "Epoch 16/20\n",
            "88/88 [==============================] - 70s 792ms/step - loss: 0.2021 - accuracy: 0.9046 - val_loss: 0.2631 - val_accuracy: 0.8867\n",
            "Epoch 17/20\n",
            "88/88 [==============================] - 69s 785ms/step - loss: 0.1931 - accuracy: 0.9082 - val_loss: 0.3337 - val_accuracy: 0.8867\n",
            "Epoch 18/20\n",
            "88/88 [==============================] - 72s 815ms/step - loss: 0.1908 - accuracy: 0.9121 - val_loss: 0.2643 - val_accuracy: 0.8867\n",
            "Epoch 19/20\n",
            "88/88 [==============================] - 71s 812ms/step - loss: 0.1727 - accuracy: 0.9157 - val_loss: 0.3460 - val_accuracy: 0.8867\n",
            "Epoch 20/20\n",
            "88/88 [==============================] - 66s 751ms/step - loss: 0.1765 - accuracy: 0.9157 - val_loss: 0.3204 - val_accuracy: 0.8883\n",
            "2-conv-128-nodes-4-dense-1649662886\n",
            "Epoch 1/20\n",
            "88/88 [==============================] - 147s 2s/step - loss: 1.4321 - accuracy: 0.2468 - val_loss: 1.3867 - val_accuracy: 0.2367\n",
            "Epoch 2/20\n",
            "88/88 [==============================] - 145s 2s/step - loss: 1.3910 - accuracy: 0.2507 - val_loss: 1.3856 - val_accuracy: 0.2817\n",
            "Epoch 3/20\n",
            "88/88 [==============================] - 142s 2s/step - loss: 1.3905 - accuracy: 0.2629 - val_loss: 1.3865 - val_accuracy: 0.2350\n",
            "Epoch 4/20\n",
            "88/88 [==============================] - 142s 2s/step - loss: 0.8665 - accuracy: 0.6443 - val_loss: 0.3427 - val_accuracy: 0.8867\n",
            "Epoch 5/20\n",
            "88/88 [==============================] - 145s 2s/step - loss: 0.3001 - accuracy: 0.8939 - val_loss: 0.2706 - val_accuracy: 0.8867\n",
            "Epoch 6/20\n",
            "88/88 [==============================] - 144s 2s/step - loss: 0.2393 - accuracy: 0.9039 - val_loss: 0.2896 - val_accuracy: 0.8717\n",
            "Epoch 7/20\n",
            "88/88 [==============================] - 141s 2s/step - loss: 0.2423 - accuracy: 0.9021 - val_loss: 0.2552 - val_accuracy: 0.8867\n",
            "Epoch 8/20\n",
            "88/88 [==============================] - 141s 2s/step - loss: 0.2339 - accuracy: 0.9032 - val_loss: 0.2445 - val_accuracy: 0.8867\n",
            "Epoch 9/20\n",
            "88/88 [==============================] - 144s 2s/step - loss: 0.2291 - accuracy: 0.9021 - val_loss: 0.2530 - val_accuracy: 0.8867\n",
            "Epoch 10/20\n",
            "88/88 [==============================] - 144s 2s/step - loss: 0.2247 - accuracy: 0.9039 - val_loss: 0.2583 - val_accuracy: 0.8867\n",
            "Epoch 11/20\n",
            "88/88 [==============================] - 143s 2s/step - loss: 0.2220 - accuracy: 0.9061 - val_loss: 0.2582 - val_accuracy: 0.8867\n",
            "Epoch 12/20\n",
            "88/88 [==============================] - 156s 2s/step - loss: 0.2244 - accuracy: 0.9050 - val_loss: 0.2414 - val_accuracy: 0.8867\n",
            "Epoch 13/20\n",
            "88/88 [==============================] - 149s 2s/step - loss: 0.2211 - accuracy: 0.9054 - val_loss: 0.2376 - val_accuracy: 0.8867\n",
            "Epoch 14/20\n",
            "88/88 [==============================] - 145s 2s/step - loss: 0.2174 - accuracy: 0.9057 - val_loss: 0.2465 - val_accuracy: 0.8867\n",
            "Epoch 15/20\n",
            "88/88 [==============================] - 144s 2s/step - loss: 0.2416 - accuracy: 0.9000 - val_loss: 0.2712 - val_accuracy: 0.8867\n",
            "Epoch 16/20\n",
            "88/88 [==============================] - 144s 2s/step - loss: 0.2259 - accuracy: 0.9054 - val_loss: 0.2389 - val_accuracy: 0.8867\n",
            "Epoch 17/20\n",
            "88/88 [==============================] - 140s 2s/step - loss: 0.2132 - accuracy: 0.9054 - val_loss: 0.2536 - val_accuracy: 0.8867\n",
            "Epoch 18/20\n",
            "88/88 [==============================] - 141s 2s/step - loss: 0.2183 - accuracy: 0.9061 - val_loss: 0.2476 - val_accuracy: 0.8867\n",
            "Epoch 19/20\n",
            "88/88 [==============================] - 140s 2s/step - loss: 0.2147 - accuracy: 0.9054 - val_loss: 0.2642 - val_accuracy: 0.8867\n",
            "Epoch 20/20\n",
            "88/88 [==============================] - 143s 2s/step - loss: 0.2159 - accuracy: 0.9046 - val_loss: 0.2453 - val_accuracy: 0.8867\n",
            "3-conv-128-nodes-4-dense-1649665789\n",
            "Epoch 1/20\n",
            "88/88 [==============================] - 161s 2s/step - loss: 1.3902 - accuracy: 0.2329 - val_loss: 1.3842 - val_accuracy: 0.2817\n",
            "Epoch 2/20\n",
            "88/88 [==============================] - 159s 2s/step - loss: 1.3883 - accuracy: 0.2554 - val_loss: 1.3856 - val_accuracy: 0.2817\n",
            "Epoch 3/20\n",
            "88/88 [==============================] - 158s 2s/step - loss: 1.3869 - accuracy: 0.2454 - val_loss: 1.3866 - val_accuracy: 0.2367\n",
            "Epoch 4/20\n",
            "88/88 [==============================] - 158s 2s/step - loss: 1.3869 - accuracy: 0.2439 - val_loss: 1.3864 - val_accuracy: 0.2367\n",
            "Epoch 5/20\n",
            "88/88 [==============================] - 156s 2s/step - loss: 1.3877 - accuracy: 0.2593 - val_loss: 1.3860 - val_accuracy: 0.2817\n",
            "Epoch 6/20\n",
            "88/88 [==============================] - 156s 2s/step - loss: 1.3868 - accuracy: 0.2489 - val_loss: 1.3871 - val_accuracy: 0.2367\n",
            "Epoch 7/20\n",
            "88/88 [==============================] - 156s 2s/step - loss: 1.3867 - accuracy: 0.2582 - val_loss: 1.3870 - val_accuracy: 0.2367\n",
            "Epoch 8/20\n",
            "88/88 [==============================] - 156s 2s/step - loss: 1.3200 - accuracy: 0.3539 - val_loss: 1.0663 - val_accuracy: 0.4467\n",
            "Epoch 9/20\n",
            "88/88 [==============================] - 159s 2s/step - loss: 0.5629 - accuracy: 0.7818 - val_loss: 0.4154 - val_accuracy: 0.8600\n",
            "Epoch 10/20\n",
            "88/88 [==============================] - 159s 2s/step - loss: 0.2829 - accuracy: 0.8932 - val_loss: 0.2853 - val_accuracy: 0.8833\n",
            "Epoch 11/20\n",
            "88/88 [==============================] - 158s 2s/step - loss: 0.2445 - accuracy: 0.9007 - val_loss: 0.2496 - val_accuracy: 0.8867\n",
            "Epoch 12/20\n",
            "88/88 [==============================] - 156s 2s/step - loss: 0.2330 - accuracy: 0.9007 - val_loss: 1.0035 - val_accuracy: 0.8750\n",
            "Epoch 13/20\n",
            "88/88 [==============================] - 159s 2s/step - loss: 0.2343 - accuracy: 0.9036 - val_loss: 0.2416 - val_accuracy: 0.8867\n",
            "Epoch 14/20\n",
            "88/88 [==============================] - 158s 2s/step - loss: 0.2419 - accuracy: 0.9021 - val_loss: 0.2379 - val_accuracy: 0.8867\n",
            "Epoch 15/20\n",
            "88/88 [==============================] - 158s 2s/step - loss: 0.2258 - accuracy: 0.9018 - val_loss: 0.2627 - val_accuracy: 0.8867\n",
            "Epoch 16/20\n",
            "88/88 [==============================] - 159s 2s/step - loss: 0.2366 - accuracy: 0.9032 - val_loss: 0.2652 - val_accuracy: 0.8867\n",
            "Epoch 17/20\n",
            "88/88 [==============================] - 160s 2s/step - loss: 0.2208 - accuracy: 0.9054 - val_loss: 0.2658 - val_accuracy: 0.8867\n",
            "Epoch 18/20\n",
            "88/88 [==============================] - 163s 2s/step - loss: 0.2226 - accuracy: 0.9043 - val_loss: 0.2588 - val_accuracy: 0.8867\n",
            "Epoch 19/20\n",
            "88/88 [==============================] - 165s 2s/step - loss: 0.2155 - accuracy: 0.9057 - val_loss: 0.2738 - val_accuracy: 0.8867\n",
            "Epoch 20/20\n",
            "88/88 [==============================] - 167s 2s/step - loss: 0.2553 - accuracy: 0.9018 - val_loss: 0.2601 - val_accuracy: 0.8833\n"
          ]
        }
      ]
    },
    {
      "cell_type": "code",
      "source": [
        "%tensorboard --logdir logs"
      ],
      "metadata": {
        "id": "tU9-rzRfxjFG"
      },
      "execution_count": null,
      "outputs": []
    },
    {
      "cell_type": "markdown",
      "source": [
        "Eventhough the running took some significant time, the 2 interacting graph give us a better visualization of accuracy and loss at each time we run the different models. However, we will tempt to prioritize model which give us low loss for final validation set as there is some randomness when it comes to the models, and then look at its accuracy for further validation. \n",
        "\n",
        "We would zoom in validation loss, and these are top 5 lowest:\n",
        "\n",
        "*   2-conv-128-nodes\n",
        "*   2-conv-64-nodes\n",
        "*   3-conv-32-nodes\n",
        "*   3-conv-64-nodes\n",
        "*   3-conv-128-nodes\n",
        "\n",
        "And these are top 5 best accuracy:\n",
        "\n",
        "*   1-conv-128-nodes\n",
        "*   2-conv-128-nodes\n",
        "*   3-conv-32-nodes\n",
        "*   2-conv-64-nodes\n",
        "*   3-conv-128-nodes\n",
        "\n",
        "It seems like 128 nodes with 2 convulational layers give us a quite good models. Therefore we would choose this combination for further training model.\n",
        "\n"
      ],
      "metadata": {
        "id": "oByqqj0nxjFG"
      }
    },
    {
      "cell_type": "markdown",
      "source": [
        "## Training model "
      ],
      "metadata": {
        "id": "klqsFeIK1y5h"
      }
    },
    {
      "cell_type": "code",
      "source": [
        "dense_layer = 4\n",
        "layer_sizes = [128]\n",
        "conv_layers = [2]\n",
        "\n",
        "for layer_size in layer_sizes:\n",
        "    for conv_layer in conv_layers:\n",
        "        NAME = \"{}-conv-{}-nodes-{}-dense\".format(conv_layer, layer_size, 4)\n",
        "        print(NAME)\n",
        "\n",
        "        model_tune = Sequential()\n",
        "\n",
        "        model_tune.add(Conv2D(layer_size, (3, 3), input_shape=x_train_reshape.shape[1:]))\n",
        "        model_tune.add(Activation('relu'))\n",
        "        model_tune.add(MaxPooling2D(pool_size=(2, 2)))\n",
        "\n",
        "        for l in range(conv_layer-1):\n",
        "            model_tune.add(Conv2D(layer_size, (3, 3)))\n",
        "            model_tune.add(Activation('relu'))\n",
        "            model_tune.add(MaxPooling2D(pool_size=(2, 2)))\n",
        "\n",
        "        model_tune.add(Flatten())\n",
        "        for _ in range(dense_layer):\n",
        "            model_tune.add(Dense(layer_size))\n",
        "            model_tune.add(Activation('relu'))\n",
        "\n",
        "        model_tune.add(Dense(4))\n",
        "        model_tune.add(Activation('softmax'))\n",
        "\n",
        "        model_tune.summary()\n",
        "\n",
        "        model_tune.compile(loss='categorical_crossentropy',\n",
        "                      optimizer='rmsprop',\n",
        "                      metrics=['accuracy'],\n",
        "                      )\n",
        "\n",
        "        model_tune.fit(x_train_reshape, y_train_reshape,\n",
        "                  epochs=10,\n",
        "                  validation_data=(x_valid_reshape, y_valid_reshape),\n",
        "                  )"
      ],
      "metadata": {
        "colab": {
          "base_uri": "https://localhost:8080/"
        },
        "id": "TwrdO1v83FPp",
        "outputId": "9d3d9aec-a05b-4159-d28c-b960da3ed3df"
      },
      "execution_count": null,
      "outputs": [
        {
          "output_type": "stream",
          "name": "stdout",
          "text": [
            "2-conv-128-nodes-4-dense\n",
            "Model: \"sequential_3\"\n",
            "_________________________________________________________________\n",
            " Layer (type)                Output Shape              Param #   \n",
            "=================================================================\n",
            " conv2d_4 (Conv2D)           (None, 98, 98, 128)       1280      \n",
            "                                                                 \n",
            " activation_13 (Activation)  (None, 98, 98, 128)       0         \n",
            "                                                                 \n",
            " max_pooling2d_4 (MaxPooling  (None, 49, 49, 128)      0         \n",
            " 2D)                                                             \n",
            "                                                                 \n",
            " conv2d_5 (Conv2D)           (None, 47, 47, 128)       147584    \n",
            "                                                                 \n",
            " activation_14 (Activation)  (None, 47, 47, 128)       0         \n",
            "                                                                 \n",
            " max_pooling2d_5 (MaxPooling  (None, 23, 23, 128)      0         \n",
            " 2D)                                                             \n",
            "                                                                 \n",
            " flatten_3 (Flatten)         (None, 67712)             0         \n",
            "                                                                 \n",
            " dense_9 (Dense)             (None, 128)               8667264   \n",
            "                                                                 \n",
            " activation_15 (Activation)  (None, 128)               0         \n",
            "                                                                 \n",
            " dense_10 (Dense)            (None, 128)               16512     \n",
            "                                                                 \n",
            " activation_16 (Activation)  (None, 128)               0         \n",
            "                                                                 \n",
            " dense_11 (Dense)            (None, 128)               16512     \n",
            "                                                                 \n",
            " activation_17 (Activation)  (None, 128)               0         \n",
            "                                                                 \n",
            " dense_12 (Dense)            (None, 128)               16512     \n",
            "                                                                 \n",
            " activation_18 (Activation)  (None, 128)               0         \n",
            "                                                                 \n",
            " dense_13 (Dense)            (None, 4)                 516       \n",
            "                                                                 \n",
            " activation_19 (Activation)  (None, 4)                 0         \n",
            "                                                                 \n",
            "=================================================================\n",
            "Total params: 8,866,180\n",
            "Trainable params: 8,866,180\n",
            "Non-trainable params: 0\n",
            "_________________________________________________________________\n",
            "Epoch 1/10\n",
            "88/88 [==============================] - 206s 2s/step - loss: 1.3991 - accuracy: 0.3039 - val_loss: 1.1216 - val_accuracy: 0.4017\n",
            "Epoch 2/10\n",
            "88/88 [==============================] - 142s 2s/step - loss: 0.5814 - accuracy: 0.7836 - val_loss: 0.3015 - val_accuracy: 0.8867\n",
            "Epoch 3/10\n",
            "88/88 [==============================] - 140s 2s/step - loss: 0.2842 - accuracy: 0.8843 - val_loss: 0.2706 - val_accuracy: 0.8867\n",
            "Epoch 4/10\n",
            "88/88 [==============================] - 140s 2s/step - loss: 0.2475 - accuracy: 0.8964 - val_loss: 0.2688 - val_accuracy: 0.8783\n",
            "Epoch 5/10\n",
            "88/88 [==============================] - 139s 2s/step - loss: 0.2366 - accuracy: 0.9014 - val_loss: 0.2478 - val_accuracy: 0.8867\n",
            "Epoch 6/10\n",
            "88/88 [==============================] - 139s 2s/step - loss: 0.2251 - accuracy: 0.9039 - val_loss: 0.2437 - val_accuracy: 0.8867\n",
            "Epoch 7/10\n",
            "88/88 [==============================] - 139s 2s/step - loss: 0.2297 - accuracy: 0.9032 - val_loss: 0.2450 - val_accuracy: 0.8867\n",
            "Epoch 8/10\n",
            "88/88 [==============================] - 138s 2s/step - loss: 0.2881 - accuracy: 0.8996 - val_loss: 0.2734 - val_accuracy: 0.8867\n",
            "Epoch 9/10\n",
            "88/88 [==============================] - 138s 2s/step - loss: 0.2240 - accuracy: 0.9050 - val_loss: 0.2566 - val_accuracy: 0.8867\n",
            "Epoch 10/10\n",
            "88/88 [==============================] - 138s 2s/step - loss: 0.2254 - accuracy: 0.9046 - val_loss: 0.2481 - val_accuracy: 0.8867\n"
          ]
        }
      ]
    },
    {
      "cell_type": "code",
      "source": [
        "val_loss_tune, val_acc_tune = model_tune.evaluate(x_test_reshape, y_test_reshape)  # evaluate the out of sample data with model\n",
        "print(\"Model's loss (error) is\",round(val_loss_tune*100,2))  # model's loss (error)\n",
        "print(\"Model's accuracy is\",round(val_acc_tune*100,2))  # model's accuracy"
      ],
      "metadata": {
        "colab": {
          "base_uri": "https://localhost:8080/"
        },
        "id": "X8W-KVue7L2J",
        "outputId": "37dfcf4d-fd9c-4fd6-b65d-04daa98c0c33"
      },
      "execution_count": null,
      "outputs": [
        {
          "output_type": "stream",
          "name": "stdout",
          "text": [
            "19/19 [==============================] - 7s 385ms/step - loss: 0.2677 - accuracy: 0.8900\n",
            "Model's loss (error) is 26.77\n",
            "Model's accuracy is 89.0\n"
          ]
        }
      ]
    },
    {
      "cell_type": "markdown",
      "source": [
        "This model is the best so far, hence, we will use this model."
      ],
      "metadata": {
        "id": "F3uFSWit-fj8"
      }
    },
    {
      "cell_type": "code",
      "source": [
        "# save model\n",
        "model_tune.save('best_model_CNN.h5') "
      ],
      "metadata": {
        "id": "9fq4oCwXOZFp"
      },
      "execution_count": null,
      "outputs": []
    },
    {
      "cell_type": "markdown",
      "source": [
        "# 5. Augmentation data"
      ],
      "metadata": {
        "id": "fFQpYtpURDtj"
      }
    },
    {
      "cell_type": "markdown",
      "source": [
        "Also, we would try to better train our model. Hence, we would try to fit the best model so far into augmentation data."
      ],
      "metadata": {
        "id": "XJboMN33UX1Q"
      }
    },
    {
      "cell_type": "code",
      "source": [
        "from keras.preprocessing.image import ImageDataGenerator"
      ],
      "metadata": {
        "id": "Y7GsFx-DF8IA"
      },
      "execution_count": null,
      "outputs": []
    },
    {
      "cell_type": "code",
      "source": [
        "dense_layer = 4\n",
        "layer_sizes = [128]\n",
        "conv_layers = [2]\n",
        "\n",
        "for layer_size in layer_sizes:\n",
        "    for conv_layer in conv_layers:\n",
        "        NAME = \"{}-conv-{}-nodes-{}-dense\".format(conv_layer, layer_size, 4)\n",
        "        print(NAME)\n",
        "\n",
        "        model_aug = Sequential()\n",
        "\n",
        "        model_aug.add(Conv2D(layer_size, (3, 3), input_shape=x_train_reshape.shape[1:]))\n",
        "        model_aug.add(Activation('relu'))\n",
        "        model_aug.add(MaxPooling2D(pool_size=(2, 2)))\n",
        "\n",
        "        for l in range(conv_layer-1):\n",
        "            model_aug.add(Conv2D(layer_size, (3, 3)))\n",
        "            model_aug.add(Activation('relu'))\n",
        "            model_aug.add(MaxPooling2D(pool_size=(2, 2)))\n",
        "\n",
        "        model_aug.add(Flatten())\n",
        "        for _ in range(dense_layer):\n",
        "            model_aug.add(Dense(layer_size))\n",
        "            model_aug.add(Activation('relu'))\n",
        "\n",
        "        model_aug.add(Dense(4))\n",
        "        model_aug.add(Activation('softmax'))\n",
        "\n",
        "        model_aug.summary()\n",
        "\n",
        "        model_aug.compile(loss='categorical_crossentropy',\n",
        "                      optimizer='rmsprop',\n",
        "                      metrics=['accuracy'],\n",
        "                      )"
      ],
      "metadata": {
        "colab": {
          "base_uri": "https://localhost:8080/"
        },
        "id": "nv2Fc2jfAFgH",
        "outputId": "94267bb4-2c69-4961-e99d-66d0ff4741f6"
      },
      "execution_count": null,
      "outputs": [
        {
          "output_type": "stream",
          "name": "stdout",
          "text": [
            "2-conv-128-nodes-4-dense\n",
            "Model: \"sequential_4\"\n",
            "_________________________________________________________________\n",
            " Layer (type)                Output Shape              Param #   \n",
            "=================================================================\n",
            " conv2d_6 (Conv2D)           (None, 98, 98, 128)       1280      \n",
            "                                                                 \n",
            " activation_20 (Activation)  (None, 98, 98, 128)       0         \n",
            "                                                                 \n",
            " max_pooling2d_6 (MaxPooling  (None, 49, 49, 128)      0         \n",
            " 2D)                                                             \n",
            "                                                                 \n",
            " conv2d_7 (Conv2D)           (None, 47, 47, 128)       147584    \n",
            "                                                                 \n",
            " activation_21 (Activation)  (None, 47, 47, 128)       0         \n",
            "                                                                 \n",
            " max_pooling2d_7 (MaxPooling  (None, 23, 23, 128)      0         \n",
            " 2D)                                                             \n",
            "                                                                 \n",
            " flatten_4 (Flatten)         (None, 67712)             0         \n",
            "                                                                 \n",
            " dense_14 (Dense)            (None, 128)               8667264   \n",
            "                                                                 \n",
            " activation_22 (Activation)  (None, 128)               0         \n",
            "                                                                 \n",
            " dense_15 (Dense)            (None, 128)               16512     \n",
            "                                                                 \n",
            " activation_23 (Activation)  (None, 128)               0         \n",
            "                                                                 \n",
            " dense_16 (Dense)            (None, 128)               16512     \n",
            "                                                                 \n",
            " activation_24 (Activation)  (None, 128)               0         \n",
            "                                                                 \n",
            " dense_17 (Dense)            (None, 128)               16512     \n",
            "                                                                 \n",
            " activation_25 (Activation)  (None, 128)               0         \n",
            "                                                                 \n",
            " dense_18 (Dense)            (None, 4)                 516       \n",
            "                                                                 \n",
            " activation_26 (Activation)  (None, 4)                 0         \n",
            "                                                                 \n",
            "=================================================================\n",
            "Total params: 8,866,180\n",
            "Trainable params: 8,866,180\n",
            "Non-trainable params: 0\n",
            "_________________________________________________________________\n"
          ]
        }
      ]
    },
    {
      "cell_type": "code",
      "source": [
        "# function to plot val loss and fit test data\n",
        "def plot_train_augmentation(x):\n",
        "  log_aug = model_aug.fit(x, y_train_reshape, epochs=5,\n",
        "                    validation_data=(x_valid_reshape, y_valid_reshape),\n",
        "                    verbose=1, \n",
        "                    )\n",
        "  \n",
        "  # plot loss\n",
        "  plt.plot(log_aug.history['loss'],label = \"training loss\",color='darkgreen')\n",
        "  plt.plot(log_aug.history['val_loss'], label = \"validation loss\",color='darkblue')\n",
        "  plt.legend()\n",
        "  ax = plt.gca()\n",
        "  plt.show()\n",
        "\n",
        "  # evaluation \n",
        "  test_loss, test_acc  = model_aug.evaluate(x_test_reshape, y_test_reshape)\n",
        "  print(\"Test Accuracy of model is\",np.round((test_acc)*100,2))"
      ],
      "metadata": {
        "id": "KenMh1ctF8KE"
      },
      "execution_count": null,
      "outputs": []
    },
    {
      "cell_type": "markdown",
      "source": [
        "We will try with random shifts and random rotation augmentation to compared each model."
      ],
      "metadata": {
        "id": "MSAjYIGZS3VZ"
      }
    },
    {
      "cell_type": "markdown",
      "source": [
        "We will train model to expect and currently handle off-center objects by artificially creating shifted versions of your training data. By using, random shifts, it supports separate horizontal and vertical random shifting of training data by the width_shift_range and height_shift_range arguments."
      ],
      "metadata": {
        "id": "lMsAddzAcc7V"
      }
    },
    {
      "cell_type": "code",
      "source": [
        "###### Random Shifts\n",
        "x_random_shift = x_train_reshape\n",
        "# define data preparation\n",
        "shift = 0.2\n",
        "datagen_random_shift = ImageDataGenerator(width_shift_range=shift, height_shift_range=shift)\n",
        "# fit parameters from data\n",
        "datagen_random_shift.fit(x_random_shift)\n",
        "# plot\n",
        "plot_train_augmentation(x_random_shift)"
      ],
      "metadata": {
        "colab": {
          "base_uri": "https://localhost:8080/",
          "height": 479
        },
        "outputId": "6dba2208-8d14-43ce-cae7-d4cfc03d2b27",
        "id": "toPLu4XFcbPT"
      },
      "execution_count": null,
      "outputs": [
        {
          "output_type": "stream",
          "name": "stdout",
          "text": [
            "Epoch 1/5\n",
            "88/88 [==============================] - 97s 1s/step - loss: 0.2711 - accuracy: 0.8914 - val_loss: 0.2777 - val_accuracy: 0.8767\n",
            "Epoch 2/5\n",
            "88/88 [==============================] - 95s 1s/step - loss: 0.2440 - accuracy: 0.8943 - val_loss: 0.2569 - val_accuracy: 0.8883\n",
            "Epoch 3/5\n",
            "88/88 [==============================] - 96s 1s/step - loss: 0.2541 - accuracy: 0.8943 - val_loss: 0.2425 - val_accuracy: 0.8883\n",
            "Epoch 4/5\n",
            "88/88 [==============================] - 95s 1s/step - loss: 0.2486 - accuracy: 0.8968 - val_loss: 0.2509 - val_accuracy: 0.8867\n",
            "Epoch 5/5\n",
            "88/88 [==============================] - 95s 1s/step - loss: 0.2570 - accuracy: 0.9000 - val_loss: 0.2431 - val_accuracy: 0.8867\n"
          ]
        },
        {
          "output_type": "display_data",
          "data": {
            "text/plain": [
              "<Figure size 432x288 with 1 Axes>"
            ],
            "image/png": "[encoded data removed]"
          },
          "metadata": {
            "needs_background": "light"
          }
        },
        {
          "output_type": "stream",
          "name": "stdout",
          "text": [
            "19/19 [==============================] - 4s 201ms/step - loss: 0.2621 - accuracy: 0.8900\n",
            "Test Accuracy of Conv1D model is 89.0\n"
          ]
        }
      ]
    },
    {
      "cell_type": "markdown",
      "source": [
        "A rotation augmentation randomly rotates the image clockwise by a given number of degrees from 0 to 360. The rotation will likely rotate pixels out of the image frame and leave areas of the frame with no pixel data that must be filled in. In this case we will try random rotations via the rotation_range argument, with rotations to the image between 0 and 90 degrees."
      ],
      "metadata": {
        "id": "XS4aXpRVbxac"
      }
    },
    {
      "cell_type": "code",
      "source": [
        "###### Random Rotations\n",
        "x_rotation = x_train_reshape\n",
        "# define data preparation\n",
        "datagen_rotation = ImageDataGenerator(rotation_range=90)\n",
        "# fit parameters from data\n",
        "datagen_rotation.fit(x_rotation)\n",
        "# plot\n",
        "plot_train_augmentation(x_rotation)"
      ],
      "metadata": {
        "colab": {
          "base_uri": "https://localhost:8080/",
          "height": 479
        },
        "outputId": "773c4256-a4c0-4b53-ae59-b6bce8adb4d7",
        "id": "IOj0Lbb5cbPn"
      },
      "execution_count": null,
      "outputs": [
        {
          "output_type": "stream",
          "name": "stdout",
          "text": [
            "Epoch 1/5\n",
            "88/88 [==============================] - 95s 1s/step - loss: 0.2601 - accuracy: 0.8982 - val_loss: 0.2496 - val_accuracy: 0.8883\n",
            "Epoch 2/5\n",
            "88/88 [==============================] - 93s 1s/step - loss: 0.2515 - accuracy: 0.8968 - val_loss: 0.2431 - val_accuracy: 0.8883\n",
            "Epoch 3/5\n",
            "88/88 [==============================] - 93s 1s/step - loss: 0.2609 - accuracy: 0.8961 - val_loss: 0.2441 - val_accuracy: 0.8867\n",
            "Epoch 4/5\n",
            "88/88 [==============================] - 94s 1s/step - loss: 0.2475 - accuracy: 0.8996 - val_loss: 0.2587 - val_accuracy: 0.8833\n",
            "Epoch 5/5\n",
            "88/88 [==============================] - 94s 1s/step - loss: 0.2542 - accuracy: 0.8968 - val_loss: 0.2676 - val_accuracy: 0.8833\n"
          ]
        },
        {
          "output_type": "display_data",
          "data": {
            "text/plain": [
              "<Figure size 432x288 with 1 Axes>"
            ],
            "image/png": "[encoded data removed]"
          },
          "metadata": {
            "needs_background": "light"
          }
        },
        {
          "output_type": "stream",
          "name": "stdout",
          "text": [
            "19/19 [==============================] - 4s 203ms/step - loss: 0.2862 - accuracy: 0.8900\n",
            "Test Accuracy of Conv1D model is 89.0\n"
          ]
        }
      ]
    },
    {
      "cell_type": "markdown",
      "source": [
        "The best accuracy so far is still remain the same, which is 89%."
      ],
      "metadata": {
        "id": "MiP3yLg-dluq"
      }
    },
    {
      "cell_type": "code",
      "source": [
        "# save model\n",
        "model_aug.save('best_model_CNN.h5') "
      ],
      "metadata": {
        "id": "YtPFXm4jNt68"
      },
      "execution_count": null,
      "outputs": []
    },
    {
      "cell_type": "markdown",
      "source": [
        "# 6. Compare RNNs and CNNs"
      ],
      "metadata": {
        "id": "XD7WOGNfGIM-"
      }
    },
    {
      "cell_type": "code",
      "source": [
        "# combine training and validation set \n",
        "X_valid_and_train_reshape = np.concatenate((x_train_reshape, x_valid_reshape), axis=0)\n",
        "y_valid_and_train = np.concatenate((y_train_reshape, y_valid_reshape), axis=0)\n",
        "# check shape\n",
        "print(X_valid_and_train_reshape.shape)\n",
        "print(y_valid_and_train.shape)"
      ],
      "metadata": {
        "id": "-SiUhcwjF8ML",
        "colab": {
          "base_uri": "https://localhost:8080/"
        },
        "outputId": "c6bc29e1-a421-4c20-c1ce-d5efe5edb959"
      },
      "execution_count": null,
      "outputs": [
        {
          "output_type": "stream",
          "name": "stdout",
          "text": [
            "(3400, 100, 100, 1)\n",
            "(3400, 4)\n"
          ]
        }
      ]
    },
    {
      "cell_type": "code",
      "source": [
        "model_aug.compile(loss=\"categorical_crossentropy\", # for one hot encode output \n",
        "              # The RMSprop optimizer restricts the oscillations in the vertical direction. \n",
        "              # Therefore, we can increase our learning rate and our algorithm could take larger steps \n",
        "              # in the horizontal direction converging faster. \n",
        "              optimizer='rmsprop',\n",
        "              metrics=['accuracy'])\n",
        "model_aug.fit(X_valid_and_train_reshape, y_valid_and_train, epochs=40,\n",
        "                    validation_data=(x_test_reshape, y_test_reshape),\n",
        "                    verbose=1, \n",
        "                    )"
      ],
      "metadata": {
        "colab": {
          "base_uri": "https://localhost:8080/"
        },
        "outputId": "e66ba939-7421-4c94-e907-f5f23b1b2cd9",
        "id": "5jy3N8b7kALb"
      },
      "execution_count": null,
      "outputs": [
        {
          "output_type": "stream",
          "name": "stdout",
          "text": [
            "Epoch 1/40\n",
            "107/107 [==============================] - 136s 1s/step - loss: 1.4632 - accuracy: 0.2547 - val_loss: 1.3869 - val_accuracy: 0.2667\n",
            "Epoch 2/40\n",
            "107/107 [==============================] - 134s 1s/step - loss: 1.4068 - accuracy: 0.2621 - val_loss: 1.3632 - val_accuracy: 0.5367\n",
            "Epoch 3/40\n",
            "107/107 [==============================] - 136s 1s/step - loss: 0.8370 - accuracy: 0.7174 - val_loss: 0.4159 - val_accuracy: 0.8717\n",
            "Epoch 4/40\n",
            "107/107 [==============================] - 142s 1s/step - loss: 0.2867 - accuracy: 0.8868 - val_loss: 0.3009 - val_accuracy: 0.8900\n",
            "Epoch 5/40\n",
            "107/107 [==============================] - 133s 1s/step - loss: 0.2587 - accuracy: 0.8900 - val_loss: 0.2612 - val_accuracy: 0.8900\n",
            "Epoch 6/40\n",
            "107/107 [==============================] - 133s 1s/step - loss: 0.2474 - accuracy: 0.8891 - val_loss: 0.2860 - val_accuracy: 0.8900\n",
            "Epoch 7/40\n",
            "107/107 [==============================] - 133s 1s/step - loss: 0.2391 - accuracy: 0.8938 - val_loss: 0.2463 - val_accuracy: 0.8900\n",
            "Epoch 8/40\n",
            "107/107 [==============================] - 133s 1s/step - loss: 0.2333 - accuracy: 0.8974 - val_loss: 0.2982 - val_accuracy: 0.8200\n",
            "Epoch 9/40\n",
            "107/107 [==============================] - 134s 1s/step - loss: 0.2308 - accuracy: 0.8968 - val_loss: 0.3928 - val_accuracy: 0.8900\n",
            "Epoch 10/40\n",
            "107/107 [==============================] - 133s 1s/step - loss: 0.2228 - accuracy: 0.8974 - val_loss: 0.2609 - val_accuracy: 0.8850\n",
            "Epoch 11/40\n",
            "107/107 [==============================] - 133s 1s/step - loss: 0.2277 - accuracy: 0.8982 - val_loss: 0.2640 - val_accuracy: 0.8883\n",
            "Epoch 12/40\n",
            "107/107 [==============================] - 135s 1s/step - loss: 0.2257 - accuracy: 0.8950 - val_loss: 0.2956 - val_accuracy: 0.8900\n",
            "Epoch 13/40\n",
            "107/107 [==============================] - 141s 1s/step - loss: 0.2253 - accuracy: 0.8974 - val_loss: 0.2831 - val_accuracy: 0.8850\n",
            "Epoch 14/40\n",
            "107/107 [==============================] - 142s 1s/step - loss: 0.2212 - accuracy: 0.8974 - val_loss: 0.2702 - val_accuracy: 0.8900\n",
            "Epoch 15/40\n",
            "107/107 [==============================] - 140s 1s/step - loss: 0.2199 - accuracy: 0.8997 - val_loss: 0.2525 - val_accuracy: 0.8900\n",
            "Epoch 16/40\n",
            "107/107 [==============================] - 139s 1s/step - loss: 0.2167 - accuracy: 0.9006 - val_loss: 0.4590 - val_accuracy: 0.8900\n",
            "Epoch 17/40\n",
            "107/107 [==============================] - 137s 1s/step - loss: 0.2196 - accuracy: 0.9009 - val_loss: 0.3115 - val_accuracy: 0.8883\n",
            "Epoch 18/40\n",
            "107/107 [==============================] - 134s 1s/step - loss: 0.2151 - accuracy: 0.8991 - val_loss: 0.2430 - val_accuracy: 0.8950\n",
            "Epoch 19/40\n",
            "107/107 [==============================] - 135s 1s/step - loss: 0.2139 - accuracy: 0.9012 - val_loss: 0.2419 - val_accuracy: 0.8867\n",
            "Epoch 20/40\n",
            "107/107 [==============================] - 135s 1s/step - loss: 0.2101 - accuracy: 0.9026 - val_loss: 0.2485 - val_accuracy: 0.8883\n",
            "Epoch 21/40\n",
            "107/107 [==============================] - 136s 1s/step - loss: 0.2073 - accuracy: 0.9029 - val_loss: 0.2741 - val_accuracy: 0.8850\n",
            "Epoch 22/40\n",
            "107/107 [==============================] - 135s 1s/step - loss: 0.2101 - accuracy: 0.9006 - val_loss: 0.2675 - val_accuracy: 0.8883\n",
            "Epoch 23/40\n",
            "107/107 [==============================] - 134s 1s/step - loss: 0.2071 - accuracy: 0.9071 - val_loss: 0.2553 - val_accuracy: 0.8783\n",
            "Epoch 24/40\n",
            "107/107 [==============================] - 134s 1s/step - loss: 0.2043 - accuracy: 0.9044 - val_loss: 0.2722 - val_accuracy: 0.8683\n",
            "Epoch 25/40\n",
            "107/107 [==============================] - 135s 1s/step - loss: 0.2025 - accuracy: 0.9012 - val_loss: 0.2891 - val_accuracy: 0.8883\n",
            "Epoch 26/40\n",
            "107/107 [==============================] - 133s 1s/step - loss: 0.2026 - accuracy: 0.9038 - val_loss: 0.2518 - val_accuracy: 0.8817\n",
            "Epoch 27/40\n",
            "107/107 [==============================] - 133s 1s/step - loss: 0.1992 - accuracy: 0.9059 - val_loss: 0.2694 - val_accuracy: 0.8833\n",
            "Epoch 28/40\n",
            "107/107 [==============================] - 135s 1s/step - loss: 0.1989 - accuracy: 0.9003 - val_loss: 0.2521 - val_accuracy: 0.8867\n",
            "Epoch 29/40\n",
            "107/107 [==============================] - 137s 1s/step - loss: 0.1994 - accuracy: 0.9009 - val_loss: 0.2643 - val_accuracy: 0.8917\n",
            "Epoch 30/40\n",
            "107/107 [==============================] - 140s 1s/step - loss: 0.1961 - accuracy: 0.9044 - val_loss: 0.2462 - val_accuracy: 0.8850\n",
            "Epoch 31/40\n",
            "107/107 [==============================] - 136s 1s/step - loss: 0.1954 - accuracy: 0.9071 - val_loss: 0.2536 - val_accuracy: 0.8867\n",
            "Epoch 32/40\n",
            "107/107 [==============================] - 134s 1s/step - loss: 0.1934 - accuracy: 0.9029 - val_loss: 0.2654 - val_accuracy: 0.8850\n",
            "Epoch 33/40\n",
            "107/107 [==============================] - 134s 1s/step - loss: 0.1888 - accuracy: 0.9118 - val_loss: 0.2815 - val_accuracy: 0.8883\n",
            "Epoch 34/40\n",
            "107/107 [==============================] - 134s 1s/step - loss: 0.1894 - accuracy: 0.9056 - val_loss: 0.2930 - val_accuracy: 0.8783\n",
            "Epoch 35/40\n",
            "107/107 [==============================] - 134s 1s/step - loss: 0.1909 - accuracy: 0.9044 - val_loss: 0.3120 - val_accuracy: 0.8350\n",
            "Epoch 36/40\n",
            "107/107 [==============================] - 135s 1s/step - loss: 0.1924 - accuracy: 0.9050 - val_loss: 0.3104 - val_accuracy: 0.8333\n",
            "Epoch 37/40\n",
            "107/107 [==============================] - 134s 1s/step - loss: 0.1848 - accuracy: 0.9118 - val_loss: 0.2954 - val_accuracy: 0.8717\n",
            "Epoch 38/40\n",
            "107/107 [==============================] - 134s 1s/step - loss: 0.1877 - accuracy: 0.9100 - val_loss: 0.2657 - val_accuracy: 0.8833\n",
            "Epoch 39/40\n",
            "107/107 [==============================] - 136s 1s/step - loss: 0.1867 - accuracy: 0.9126 - val_loss: 0.2923 - val_accuracy: 0.8733\n",
            "Epoch 40/40\n",
            "107/107 [==============================] - 136s 1s/step - loss: 0.1877 - accuracy: 0.9112 - val_loss: 0.2635 - val_accuracy: 0.8667\n"
          ]
        }
      ]
    },
    {
      "cell_type": "code",
      "source": [
        "val_loss_1, val_acc_1 = model_aug.evaluate(x_test_reshape, y_test_reshape)  # evaluate the out of sample data with model\n",
        "print(\"Model's loss (error) is\",val_loss_1)  # model's loss (error)\n",
        "print(\"Model's accuracy is\",val_acc_1)  # model's accuracy"
      ],
      "metadata": {
        "id": "Bfc3l9yIF8QK",
        "colab": {
          "base_uri": "https://localhost:8080/"
        },
        "outputId": "66f38fd8-0189-44c4-d74d-b7b90f936755"
      },
      "execution_count": null,
      "outputs": [
        {
          "output_type": "stream",
          "name": "stdout",
          "text": [
            "19/19 [==============================] - 4s 227ms/step - loss: 0.2635 - accuracy: 0.8667\n",
            "Model's loss (error) is 0.2635018527507782\n",
            "Model's accuracy is 0.8666666746139526\n"
          ]
        }
      ]
    },
    {
      "cell_type": "markdown",
      "source": [
        "The model accuracy has been still high. It has proved that our model has not been overfitted. Also, when we combine train and validation data as train data, the model still keeping the accuracy above 85%, which is quite high when fitting into real-world data. Comparing models (RNN and CNN), we fing the CNN model presents speedy and high accuracy scores as opposed to RNN. Note that the goal is to dectect minor faults in the wind turbine, as many as possible, to prevent from inccuring high cost maintenance. Therefore, accuracy metric is used to decide which model is the most appropriate. The effectiveness in translating time series to detect specific patterns also show here. Shortly, CNN model is the most approprite model considering context and goals of the project."
      ],
      "metadata": {
        "id": "k-9LTa7Wc_P2"
      }
    },
    {
      "cell_type": "code",
      "source": [
        ""
      ],
      "metadata": {
        "id": "5UyaOFKK2psz"
      },
      "execution_count": null,
      "outputs": []
    },
    {
      "cell_type": "code",
      "source": [
        ""
      ],
      "metadata": {
        "id": "XS_C9b0r2pvF"
      },
      "execution_count": null,
      "outputs": []
    }
  ]
}